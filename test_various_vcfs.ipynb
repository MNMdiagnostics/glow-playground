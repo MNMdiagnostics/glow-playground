{
 "cells": [
  {
   "cell_type": "code",
   "execution_count": 1,
   "id": "d28a0c54",
   "metadata": {},
   "outputs": [],
   "source": [
    "import glob\n",
    "\n",
    "manta_germ_vcf_path = \"data/other/CPCT02130085T_vs_CPCT02130085R.manta.germline.vep.vcf\"\n",
    "manta_som_vcf_path = \"data/other/CPCT02130085T_vs_CPCT02130085R.manta.somatic.vep.vcf\"\n",
    "strelka_som_indels_path = \"data/other/CPCT02130085T_vs_CPCT02130085R.strelka.somatic.indels.norm.vcf.gz\"\n",
    "ascat_vep_vcf_paths = glob.glob(\"data/ascat_vep/*.vcf\")\n"
   ]
  },
  {
   "cell_type": "code",
   "execution_count": 3,
   "id": "34f835ed",
   "metadata": {},
   "outputs": [],
   "source": [
    "import time\n",
    "\n",
    "import glow\n",
    "spark = glow.register(spark)\n",
    "import pyspark.sql.functions as fx\n",
    "from pyspark.sql.types import *\n",
    "from pyspark.sql.functions import *\n",
    "from random import sample\n",
    "from pyspark.sql.functions import expr"
   ]
  },
  {
   "cell_type": "code",
   "execution_count": 4,
   "id": "fb4d9735",
   "metadata": {},
   "outputs": [],
   "source": [
    "def load_vcf(path, includeSampleIds=True):\n",
    "    vcf = (\n",
    "      spark\n",
    "      .read\n",
    "      .format(\"vcf\")\n",
    "      .load(path, includeSampleIds=includeSampleIds)\n",
    "    )\n",
    "    return vcf\n"
   ]
  },
  {
   "cell_type": "markdown",
   "id": "41ee5a58",
   "metadata": {},
   "source": [
    "## ASCAT VEPed VCF"
   ]
  },
  {
   "cell_type": "code",
   "execution_count": 12,
   "id": "833160cd",
   "metadata": {},
   "outputs": [
    {
     "name": "stdout",
     "output_type": "stream",
     "text": [
      "root\n",
      " |-- contigName: string (nullable = true)\n",
      " |-- start: long (nullable = true)\n",
      " |-- end: long (nullable = true)\n",
      " |-- names: array (nullable = true)\n",
      " |    |-- element: string (containsNull = true)\n",
      " |-- referenceAllele: string (nullable = true)\n",
      " |-- alternateAlleles: array (nullable = true)\n",
      " |    |-- element: string (containsNull = true)\n",
      " |-- qual: double (nullable = true)\n",
      " |-- filters: array (nullable = true)\n",
      " |    |-- element: string (containsNull = true)\n",
      " |-- splitFromMultiAllelic: boolean (nullable = true)\n",
      " |-- INFO_END: integer (nullable = true)\n",
      " |-- INFO_CSQ: array (nullable = true)\n",
      " |    |-- element: struct (containsNull = true)\n",
      " |    |    |-- Allele: string (nullable = true)\n",
      " |    |    |-- Consequence: array (nullable = true)\n",
      " |    |    |    |-- element: string (containsNull = true)\n",
      " |    |    |-- IMPACT: string (nullable = true)\n",
      " |    |    |-- SYMBOL: string (nullable = true)\n",
      " |    |    |-- Gene: string (nullable = true)\n",
      " |    |    |-- Feature_type: string (nullable = true)\n",
      " |    |    |-- Feature: string (nullable = true)\n",
      " |    |    |-- BIOTYPE: string (nullable = true)\n",
      " |    |    |-- EXON: struct (nullable = true)\n",
      " |    |    |    |-- rank: integer (nullable = true)\n",
      " |    |    |    |-- total: integer (nullable = true)\n",
      " |    |    |-- INTRON: struct (nullable = true)\n",
      " |    |    |    |-- rank: integer (nullable = true)\n",
      " |    |    |    |-- total: integer (nullable = true)\n",
      " |    |    |-- HGVSc: string (nullable = true)\n",
      " |    |    |-- HGVSp: string (nullable = true)\n",
      " |    |    |-- cDNA_position: integer (nullable = true)\n",
      " |    |    |-- CDS_position: integer (nullable = true)\n",
      " |    |    |-- Protein_position: integer (nullable = true)\n",
      " |    |    |-- Amino_acids: struct (nullable = true)\n",
      " |    |    |    |-- reference: string (nullable = true)\n",
      " |    |    |    |-- variant: string (nullable = true)\n",
      " |    |    |-- Codons: struct (nullable = true)\n",
      " |    |    |    |-- reference: string (nullable = true)\n",
      " |    |    |    |-- variant: string (nullable = true)\n",
      " |    |    |-- Existing_variation: array (nullable = true)\n",
      " |    |    |    |-- element: string (containsNull = true)\n",
      " |    |    |-- DISTANCE: integer (nullable = true)\n",
      " |    |    |-- STRAND: integer (nullable = true)\n",
      " |    |    |-- FLAGS: array (nullable = true)\n",
      " |    |    |    |-- element: string (containsNull = true)\n",
      " |    |    |-- SYMBOL_SOURCE: string (nullable = true)\n",
      " |    |    |-- HGNC_ID: string (nullable = true)\n",
      " |    |    |-- CANONICAL: string (nullable = true)\n",
      " |    |    |-- GENE_PHENO: string (nullable = true)\n",
      " |-- INFO_SVTYPE: string (nullable = true)\n",
      " |-- genotypes: array (nullable = true)\n",
      " |    |-- element: struct (containsNull = true)\n",
      " |    |    |-- sampleId: string (nullable = true)\n",
      " |    |    |-- MCN: integer (nullable = true)\n",
      " |    |    |-- TCN: integer (nullable = true)\n",
      " |    |    |-- phased: boolean (nullable = true)\n",
      " |    |    |-- calls: array (nullable = true)\n",
      " |    |    |    |-- element: integer (containsNull = true)\n",
      "\n"
     ]
    }
   ],
   "source": [
    "ascat = load_vcf(ascat_vep_vcf_paths[0])\n",
    "ascat.printSchema()"
   ]
  },
  {
   "cell_type": "code",
   "execution_count": 13,
   "id": "6dc89a5c",
   "metadata": {},
   "outputs": [
    {
     "name": "stderr",
     "output_type": "stream",
     "text": [
      "                                                                                \r"
     ]
    },
    {
     "data": {
      "text/plain": [
       "[Row(INFO_SVTYPE='CNV', count=284)]"
      ]
     },
     "execution_count": 13,
     "metadata": {},
     "output_type": "execute_result"
    }
   ],
   "source": [
    "ascat.groupBy(\"INFO_SVTYPE\").count().collect()"
   ]
  },
  {
   "cell_type": "markdown",
   "id": "0a87a77a",
   "metadata": {},
   "source": [
    "## Strelka somatic indels"
   ]
  },
  {
   "cell_type": "code",
   "execution_count": 14,
   "id": "8cdb28b3",
   "metadata": {},
   "outputs": [
    {
     "name": "stdout",
     "output_type": "stream",
     "text": [
      "root\n",
      " |-- contigName: string (nullable = true)\n",
      " |-- start: long (nullable = true)\n",
      " |-- end: long (nullable = true)\n",
      " |-- names: array (nullable = true)\n",
      " |    |-- element: string (containsNull = true)\n",
      " |-- referenceAllele: string (nullable = true)\n",
      " |-- alternateAlleles: array (nullable = true)\n",
      " |    |-- element: string (containsNull = true)\n",
      " |-- qual: double (nullable = true)\n",
      " |-- filters: array (nullable = true)\n",
      " |    |-- element: string (containsNull = true)\n",
      " |-- splitFromMultiAllelic: boolean (nullable = true)\n",
      " |-- INFO_RU: string (nullable = true)\n",
      " |-- INFO_SomaticEVS: double (nullable = true)\n",
      " |-- INFO_QSI_NT: integer (nullable = true)\n",
      " |-- INFO_MQ0: integer (nullable = true)\n",
      " |-- INFO_QSI: integer (nullable = true)\n",
      " |-- INFO_RC: integer (nullable = true)\n",
      " |-- INFO_OVERLAP: boolean (nullable = true)\n",
      " |-- INFO_TQSI_NT: integer (nullable = true)\n",
      " |-- INFO_TQSI: integer (nullable = true)\n",
      " |-- INFO_IHP: integer (nullable = true)\n",
      " |-- INFO_MQ: double (nullable = true)\n",
      " |-- INFO_SGT: string (nullable = true)\n",
      " |-- INFO_SOMATIC: boolean (nullable = true)\n",
      " |-- INFO_IC: integer (nullable = true)\n",
      " |-- INFO_NT: string (nullable = true)\n",
      " |-- INFO_OLD_MULTIALLELIC: string (nullable = true)\n",
      " |-- INFO_OLD_VARIANT: array (nullable = true)\n",
      " |    |-- element: string (containsNull = true)\n",
      " |-- genotypes: array (nullable = true)\n",
      " |    |-- element: struct (containsNull = true)\n",
      " |    |    |-- sampleId: string (nullable = true)\n",
      " |    |    |-- BCN50: double (nullable = true)\n",
      " |    |    |-- TIR: array (nullable = true)\n",
      " |    |    |    |-- element: integer (containsNull = true)\n",
      " |    |    |-- TAR: array (nullable = true)\n",
      " |    |    |    |-- element: integer (containsNull = true)\n",
      " |    |    |-- TOR: array (nullable = true)\n",
      " |    |    |    |-- element: integer (containsNull = true)\n",
      " |    |    |-- FDP50: double (nullable = true)\n",
      " |    |    |-- depth: integer (nullable = true)\n",
      " |    |    |-- DP2: integer (nullable = true)\n",
      " |    |    |-- DP50: double (nullable = true)\n",
      " |    |    |-- SUBDP50: double (nullable = true)\n",
      "\n"
     ]
    },
    {
     "name": "stderr",
     "output_type": "stream",
     "text": [
      "WARNING\t2021-08-11 16:15:25\tAsciiLineReader\tCreating an indexable source for an AsciiFeatureCodec using a stream that is neither a PositionalBufferedStream nor a BlockCompressedInputStream\n"
     ]
    }
   ],
   "source": [
    "ss_indel = load_vcf(strelka_som_indels_path)\n",
    "ss_indel.printSchema()"
   ]
  },
  {
   "cell_type": "code",
   "execution_count": 16,
   "id": "3b8ff6e6",
   "metadata": {},
   "outputs": [
    {
     "name": "stderr",
     "output_type": "stream",
     "text": [
      "WARNING\t2021-08-11 16:16:18\tAsciiLineReader\tCreating an indexable source for an AsciiFeatureCodec using a stream that is neither a PositionalBufferedStream nor a BlockCompressedInputStream\n",
      "WARNING\t2021-08-11 16:16:18\tAsciiLineReader\tCreating an indexable source for an AsciiFeatureCodec using a stream that is neither a PositionalBufferedStream nor a BlockCompressedInputStream\n",
      "                                                                                \r"
     ]
    },
    {
     "data": {
      "text/plain": [
       "[Row(filters=['LowEVS'], count=128489),\n",
       " Row(filters=['PASS'], count=3654),\n",
       " Row(filters=['HighDepth;LowEVS'], count=78),\n",
       " Row(filters=['HighDepth'], count=3),\n",
       " Row(filters=['LowDepth'], count=1),\n",
       " Row(filters=['LowEVS;LowDepth'], count=1)]"
      ]
     },
     "execution_count": 16,
     "metadata": {},
     "output_type": "execute_result"
    }
   ],
   "source": [
    "ss_indel.groupBy('filters').count().collect()"
   ]
  },
  {
   "cell_type": "markdown",
   "id": "82a5fd50",
   "metadata": {},
   "source": [
    "## Manta somatic VEPed"
   ]
  },
  {
   "cell_type": "code",
   "execution_count": 17,
   "id": "9f2edbac",
   "metadata": {},
   "outputs": [
    {
     "name": "stdout",
     "output_type": "stream",
     "text": [
      "root\n",
      " |-- contigName: string (nullable = true)\n",
      " |-- start: long (nullable = true)\n",
      " |-- end: long (nullable = true)\n",
      " |-- names: array (nullable = true)\n",
      " |    |-- element: string (containsNull = true)\n",
      " |-- referenceAllele: string (nullable = true)\n",
      " |-- alternateAlleles: array (nullable = true)\n",
      " |    |-- element: string (containsNull = true)\n",
      " |-- qual: double (nullable = true)\n",
      " |-- filters: array (nullable = true)\n",
      " |    |-- element: string (containsNull = true)\n",
      " |-- splitFromMultiAllelic: boolean (nullable = true)\n",
      " |-- INFO_LEFT_SVINSSEQ: array (nullable = true)\n",
      " |    |-- element: string (containsNull = true)\n",
      " |-- INFO_CIEND: array (nullable = true)\n",
      " |    |-- element: integer (containsNull = true)\n",
      " |-- INFO_CIGAR: array (nullable = true)\n",
      " |    |-- element: string (containsNull = true)\n",
      " |-- INFO_MATE_BND_DEPTH: integer (nullable = true)\n",
      " |-- INFO_EVENT: string (nullable = true)\n",
      " |-- INFO_SVINSSEQ: array (nullable = true)\n",
      " |    |-- element: string (containsNull = true)\n",
      " |-- INFO_BND_DEPTH: integer (nullable = true)\n",
      " |-- INFO_CIPOS: array (nullable = true)\n",
      " |    |-- element: integer (containsNull = true)\n",
      " |-- INFO_MATEID: array (nullable = true)\n",
      " |    |-- element: string (containsNull = true)\n",
      " |-- INFO_RIGHT_SVINSSEQ: array (nullable = true)\n",
      " |    |-- element: string (containsNull = true)\n",
      " |-- INFO_SVLEN: array (nullable = true)\n",
      " |    |-- element: integer (containsNull = true)\n",
      " |-- INFO_HOMSEQ: array (nullable = true)\n",
      " |    |-- element: string (containsNull = true)\n",
      " |-- INFO_JUNCTION_SOMATICSCORE: integer (nullable = true)\n",
      " |-- INFO_SVINSLEN: array (nullable = true)\n",
      " |    |-- element: integer (containsNull = true)\n",
      " |-- INFO_IMPRECISE: boolean (nullable = true)\n",
      " |-- INFO_END: integer (nullable = true)\n",
      " |-- INFO_CSQ: array (nullable = true)\n",
      " |    |-- element: struct (containsNull = true)\n",
      " |    |    |-- Allele: string (nullable = true)\n",
      " |    |    |-- Consequence: array (nullable = true)\n",
      " |    |    |    |-- element: string (containsNull = true)\n",
      " |    |    |-- IMPACT: string (nullable = true)\n",
      " |    |    |-- SYMBOL: string (nullable = true)\n",
      " |    |    |-- Gene: string (nullable = true)\n",
      " |    |    |-- Feature_type: string (nullable = true)\n",
      " |    |    |-- Feature: string (nullable = true)\n",
      " |    |    |-- BIOTYPE: string (nullable = true)\n",
      " |    |    |-- EXON: struct (nullable = true)\n",
      " |    |    |    |-- rank: integer (nullable = true)\n",
      " |    |    |    |-- total: integer (nullable = true)\n",
      " |    |    |-- INTRON: struct (nullable = true)\n",
      " |    |    |    |-- rank: integer (nullable = true)\n",
      " |    |    |    |-- total: integer (nullable = true)\n",
      " |    |    |-- HGVSc: string (nullable = true)\n",
      " |    |    |-- HGVSp: string (nullable = true)\n",
      " |    |    |-- cDNA_position: integer (nullable = true)\n",
      " |    |    |-- CDS_position: integer (nullable = true)\n",
      " |    |    |-- Protein_position: integer (nullable = true)\n",
      " |    |    |-- Amino_acids: struct (nullable = true)\n",
      " |    |    |    |-- reference: string (nullable = true)\n",
      " |    |    |    |-- variant: string (nullable = true)\n",
      " |    |    |-- Codons: struct (nullable = true)\n",
      " |    |    |    |-- reference: string (nullable = true)\n",
      " |    |    |    |-- variant: string (nullable = true)\n",
      " |    |    |-- Existing_variation: array (nullable = true)\n",
      " |    |    |    |-- element: string (containsNull = true)\n",
      " |    |    |-- DISTANCE: integer (nullable = true)\n",
      " |    |    |-- STRAND: integer (nullable = true)\n",
      " |    |    |-- FLAGS: array (nullable = true)\n",
      " |    |    |    |-- element: string (containsNull = true)\n",
      " |    |    |-- SYMBOL_SOURCE: string (nullable = true)\n",
      " |    |    |-- HGNC_ID: string (nullable = true)\n",
      " |    |    |-- CANONICAL: string (nullable = true)\n",
      " |    |    |-- GENE_PHENO: string (nullable = true)\n",
      " |-- INFO_SOMATIC: boolean (nullable = true)\n",
      " |-- INFO_HOMLEN: array (nullable = true)\n",
      " |    |-- element: integer (containsNull = true)\n",
      " |-- INFO_SOMATICSCORE: integer (nullable = true)\n",
      " |-- INFO_SVTYPE: string (nullable = true)\n",
      " |-- genotypes: array (nullable = true)\n",
      " |    |-- element: struct (containsNull = true)\n",
      " |    |    |-- sampleId: string (nullable = true)\n",
      " |    |    |-- SR: array (nullable = true)\n",
      " |    |    |    |-- element: integer (containsNull = true)\n",
      " |    |    |-- PR: array (nullable = true)\n",
      " |    |    |    |-- element: integer (containsNull = true)\n",
      "\n"
     ]
    }
   ],
   "source": [
    "manta_som = load_vcf(manta_som_vcf_path)\n",
    "manta_som.printSchema()"
   ]
  },
  {
   "cell_type": "code",
   "execution_count": 18,
   "id": "3684a291",
   "metadata": {},
   "outputs": [
    {
     "name": "stderr",
     "output_type": "stream",
     "text": [
      "                                                                                \r"
     ]
    },
    {
     "data": {
      "text/plain": [
       "[Row(INFO_SVTYPE='DUP', count=16),\n",
       " Row(INFO_SVTYPE='INS', count=2),\n",
       " Row(INFO_SVTYPE='DEL', count=35),\n",
       " Row(INFO_SVTYPE='BND', count=196)]"
      ]
     },
     "execution_count": 18,
     "metadata": {},
     "output_type": "execute_result"
    }
   ],
   "source": [
    "manta_som.groupBy('INFO_SVTYPE').count().collect()"
   ]
  },
  {
   "cell_type": "markdown",
   "id": "052f08f1",
   "metadata": {},
   "source": [
    "## Manta germline VEPed"
   ]
  },
  {
   "cell_type": "code",
   "execution_count": 19,
   "id": "1c110b10",
   "metadata": {},
   "outputs": [
    {
     "name": "stdout",
     "output_type": "stream",
     "text": [
      "root\n",
      " |-- contigName: string (nullable = true)\n",
      " |-- start: long (nullable = true)\n",
      " |-- end: long (nullable = true)\n",
      " |-- names: array (nullable = true)\n",
      " |    |-- element: string (containsNull = true)\n",
      " |-- referenceAllele: string (nullable = true)\n",
      " |-- alternateAlleles: array (nullable = true)\n",
      " |    |-- element: string (containsNull = true)\n",
      " |-- qual: double (nullable = true)\n",
      " |-- filters: array (nullable = true)\n",
      " |    |-- element: string (containsNull = true)\n",
      " |-- splitFromMultiAllelic: boolean (nullable = true)\n",
      " |-- INFO_LEFT_SVINSSEQ: array (nullable = true)\n",
      " |    |-- element: string (containsNull = true)\n",
      " |-- INFO_JUNCTION_QUAL: integer (nullable = true)\n",
      " |-- INFO_CIEND: array (nullable = true)\n",
      " |    |-- element: integer (containsNull = true)\n",
      " |-- INFO_CIGAR: array (nullable = true)\n",
      " |    |-- element: string (containsNull = true)\n",
      " |-- INFO_MATE_BND_DEPTH: integer (nullable = true)\n",
      " |-- INFO_EVENT: string (nullable = true)\n",
      " |-- INFO_SVINSSEQ: array (nullable = true)\n",
      " |    |-- element: string (containsNull = true)\n",
      " |-- INFO_BND_DEPTH: integer (nullable = true)\n",
      " |-- INFO_CIPOS: array (nullable = true)\n",
      " |    |-- element: integer (containsNull = true)\n",
      " |-- INFO_MATEID: array (nullable = true)\n",
      " |    |-- element: string (containsNull = true)\n",
      " |-- INFO_RIGHT_SVINSSEQ: array (nullable = true)\n",
      " |    |-- element: string (containsNull = true)\n",
      " |-- INFO_SVLEN: array (nullable = true)\n",
      " |    |-- element: integer (containsNull = true)\n",
      " |-- INFO_HOMSEQ: array (nullable = true)\n",
      " |    |-- element: string (containsNull = true)\n",
      " |-- INFO_SVINSLEN: array (nullable = true)\n",
      " |    |-- element: integer (containsNull = true)\n",
      " |-- INFO_IMPRECISE: boolean (nullable = true)\n",
      " |-- INFO_END: integer (nullable = true)\n",
      " |-- INFO_CSQ: array (nullable = true)\n",
      " |    |-- element: struct (containsNull = true)\n",
      " |    |    |-- Allele: string (nullable = true)\n",
      " |    |    |-- Consequence: array (nullable = true)\n",
      " |    |    |    |-- element: string (containsNull = true)\n",
      " |    |    |-- IMPACT: string (nullable = true)\n",
      " |    |    |-- SYMBOL: string (nullable = true)\n",
      " |    |    |-- Gene: string (nullable = true)\n",
      " |    |    |-- Feature_type: string (nullable = true)\n",
      " |    |    |-- Feature: string (nullable = true)\n",
      " |    |    |-- BIOTYPE: string (nullable = true)\n",
      " |    |    |-- EXON: struct (nullable = true)\n",
      " |    |    |    |-- rank: integer (nullable = true)\n",
      " |    |    |    |-- total: integer (nullable = true)\n",
      " |    |    |-- INTRON: struct (nullable = true)\n",
      " |    |    |    |-- rank: integer (nullable = true)\n",
      " |    |    |    |-- total: integer (nullable = true)\n",
      " |    |    |-- HGVSc: string (nullable = true)\n",
      " |    |    |-- HGVSp: string (nullable = true)\n",
      " |    |    |-- cDNA_position: integer (nullable = true)\n",
      " |    |    |-- CDS_position: integer (nullable = true)\n",
      " |    |    |-- Protein_position: integer (nullable = true)\n",
      " |    |    |-- Amino_acids: struct (nullable = true)\n",
      " |    |    |    |-- reference: string (nullable = true)\n",
      " |    |    |    |-- variant: string (nullable = true)\n",
      " |    |    |-- Codons: struct (nullable = true)\n",
      " |    |    |    |-- reference: string (nullable = true)\n",
      " |    |    |    |-- variant: string (nullable = true)\n",
      " |    |    |-- Existing_variation: array (nullable = true)\n",
      " |    |    |    |-- element: string (containsNull = true)\n",
      " |    |    |-- DISTANCE: integer (nullable = true)\n",
      " |    |    |-- STRAND: integer (nullable = true)\n",
      " |    |    |-- FLAGS: array (nullable = true)\n",
      " |    |    |    |-- element: string (containsNull = true)\n",
      " |    |    |-- SYMBOL_SOURCE: string (nullable = true)\n",
      " |    |    |-- HGNC_ID: string (nullable = true)\n",
      " |    |    |-- CANONICAL: string (nullable = true)\n",
      " |    |    |-- GENE_PHENO: string (nullable = true)\n",
      " |-- INFO_HOMLEN: array (nullable = true)\n",
      " |    |-- element: integer (containsNull = true)\n",
      " |-- INFO_SVTYPE: string (nullable = true)\n",
      " |-- genotypes: array (nullable = true)\n",
      " |    |-- element: struct (containsNull = true)\n",
      " |    |    |-- sampleId: string (nullable = true)\n",
      " |    |    |-- conditionalQuality: integer (nullable = true)\n",
      " |    |    |-- PR: array (nullable = true)\n",
      " |    |    |    |-- element: integer (containsNull = true)\n",
      " |    |    |-- filters: array (nullable = true)\n",
      " |    |    |    |-- element: string (containsNull = true)\n",
      " |    |    |-- phased: boolean (nullable = true)\n",
      " |    |    |-- calls: array (nullable = true)\n",
      " |    |    |    |-- element: integer (containsNull = true)\n",
      " |    |    |-- phredLikelihoods: array (nullable = true)\n",
      " |    |    |    |-- element: integer (containsNull = true)\n",
      " |    |    |-- SR: array (nullable = true)\n",
      " |    |    |    |-- element: integer (containsNull = true)\n",
      "\n"
     ]
    }
   ],
   "source": [
    "manta_germ = load_vcf(manta_germ_vcf_path)\n",
    "manta_germ.printSchema()"
   ]
  },
  {
   "cell_type": "code",
   "execution_count": 21,
   "id": "790bb8df",
   "metadata": {},
   "outputs": [
    {
     "name": "stderr",
     "output_type": "stream",
     "text": [
      "                                                                                \r"
     ]
    },
    {
     "data": {
      "text/plain": [
       "[Row(INFO_SVTYPE='DUP', count=505),\n",
       " Row(INFO_SVTYPE='INS', count=3309),\n",
       " Row(INFO_SVTYPE='DEL', count=5587),\n",
       " Row(INFO_SVTYPE='BND', count=3984)]"
      ]
     },
     "execution_count": 21,
     "metadata": {},
     "output_type": "execute_result"
    }
   ],
   "source": [
    "manta_germ.groupBy('INFO_SVTYPE').count().collect()"
   ]
  }
 ],
 "metadata": {
  "kernelspec": {
   "display_name": "Python 3",
   "language": "python",
   "name": "python3"
  },
  "language_info": {
   "codemirror_mode": {
    "name": "ipython",
    "version": 3
   },
   "file_extension": ".py",
   "mimetype": "text/x-python",
   "name": "python",
   "nbconvert_exporter": "python",
   "pygments_lexer": "ipython3",
   "version": "3.8.10"
  }
 },
 "nbformat": 4,
 "nbformat_minor": 5
}
