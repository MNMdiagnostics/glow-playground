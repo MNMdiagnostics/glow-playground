{
 "cells": [
  {
   "cell_type": "code",
   "execution_count": 11,
   "id": "alive-arnold",
   "metadata": {},
   "outputs": [],
   "source": [
    "import time\n",
    "import glob\n",
    "\n",
    "import glow\n",
    "spark = glow.register(spark)\n",
    "import pyspark.sql.functions as fx\n",
    "from pyspark.sql.types import *\n",
    "from pyspark.sql.functions import *\n",
    "from random import sample"
   ]
  },
  {
   "cell_type": "code",
   "execution_count": 2,
   "id": "honest-shark",
   "metadata": {},
   "outputs": [],
   "source": [
    "vcf_path_glob = 'data/*20R.strelka.somatic.snvs.vcf.gz'\n",
    "vcf_paths = glob.glob(vcf_path_glob)\n",
    "vcf_path = vcf_paths[0]\n",
    "\n",
    "def load_vcf(path, includeSampleIds=True):\n",
    "    vcf = (\n",
    "      spark\n",
    "      .read\n",
    "      .format(\"vcf\")\n",
    "      .load(path, includeSampleIds=includeSampleIds)\n",
    "    )\n",
    "    return vcf\n",
    "\n",
    "def filter_pass(vcf):\n",
    "    return vcf.filter(array_contains(col(\"filters\"), 'PASS'))\n",
    "\n",
    "def get_only_tumor_df(vcf, cols2keep=None):\n",
    "    if cols2keep is None:\n",
    "        cols2keep = [e for e in vcf.columns if e not in ['genotypes']]\n",
    "    \n",
    "    #\n",
    "    # this is a proper way to explot the genotypes array but due to a bug? / Delta API changes? it does not work\n",
    "    #vcf.select(element_at(col(\"genotypes\"),1).alias('tumor')).select(glow.expand_struct(\"tumor\"))\n",
    "    tvcf = vcf.select(cols2keep + [vcf.genotypes.getItem(1).alias('tumor')])\n",
    "    return tvcf.select(cols2keep + [\"tumor.*\"]).drop('sampleId')\n",
    "    \n",
    "def get_tumor_and_normal_id_from_strelka_somatic_vcf_path(path):\n",
    "    extension = '.strelka.somatic.snvs.vcf.gz'\n",
    "    tvsn = os.path.basename(path)[:-len(extension)]\n",
    "    try:\n",
    "        tsid,nsid = tvsn.split('_vs_')\n",
    "        return (tsid,nsid)\n",
    "    except ValueError:\n",
    "        print(\"For tumor and normal ID inference the filename of Strelka somatic VCF \"+\n",
    "              \"is expected to be [TUMOR_vs_NORMAL\" + extension + \"].\\nIt was \" + os.path.basename(path))\n",
    "    \n",
    "def load_strelka_somatic_vcf(path, tumor_sample_id=None, normal_sample_id=None):\n",
    "    tsid,nsid = get_tumor_and_normal_id_from_strelka_somatic_vcf_path(path)\n",
    "    if (tumor_sample_id is None):\n",
    "        tumor_sample_id = tsid\n",
    "    if (normal_sample_id is None):\n",
    "        normal_sample_id = nsid\n",
    "    \n",
    "    vcf = load_vcf(path)\n",
    "    fvcf = filter_pass(vcf)\n",
    "    tvcf = get_only_tumor_df(fvcf)\n",
    "    return tumor_sample_id, tvcf\n",
    "\n"
   ]
  },
  {
   "cell_type": "markdown",
   "id": "c4e3d974",
   "metadata": {},
   "source": [
    "## Load VCF\n",
    "\n",
    "### Load single"
   ]
  },
  {
   "cell_type": "code",
   "execution_count": 3,
   "id": "sitting-optimum",
   "metadata": {
    "scrolled": true
   },
   "outputs": [
    {
     "name": "stderr",
     "output_type": "stream",
     "text": [
      "WARNING\t2021-08-10 01:10:45\tAsciiLineReader\tCreating an indexable source for an AsciiFeatureCodec using a stream that is neither a PositionalBufferedStream nor a BlockCompressedInputStream\n",
      "                                                                                \r"
     ]
    },
    {
     "name": "stdout",
     "output_type": "stream",
     "text": [
      "root\n",
      " |-- contigName: string (nullable = true)\n",
      " |-- start: long (nullable = true)\n",
      " |-- end: long (nullable = true)\n",
      " |-- names: array (nullable = true)\n",
      " |    |-- element: string (containsNull = true)\n",
      " |-- referenceAllele: string (nullable = true)\n",
      " |-- alternateAlleles: array (nullable = true)\n",
      " |    |-- element: string (containsNull = true)\n",
      " |-- qual: double (nullable = true)\n",
      " |-- filters: array (nullable = true)\n",
      " |    |-- element: string (containsNull = true)\n",
      " |-- splitFromMultiAllelic: boolean (nullable = true)\n",
      " |-- INFO_SomaticEVS: double (nullable = true)\n",
      " |-- INFO_QSS_NT: integer (nullable = true)\n",
      " |-- INFO_PNOISE2: double (nullable = true)\n",
      " |-- INFO_MQ0: integer (nullable = true)\n",
      " |-- INFO_ReadPosRankSum: double (nullable = true)\n",
      " |-- INFO_TQSS: integer (nullable = true)\n",
      " |-- INFO_SNVSB: double (nullable = true)\n",
      " |-- INFO_DP: integer (nullable = true)\n",
      " |-- INFO_PNOISE: double (nullable = true)\n",
      " |-- INFO_QSS: integer (nullable = true)\n",
      " |-- INFO_MQ: double (nullable = true)\n",
      " |-- INFO_SGT: string (nullable = true)\n",
      " |-- INFO_SOMATIC: boolean (nullable = true)\n",
      " |-- INFO_NT: string (nullable = true)\n",
      " |-- INFO_TQSS_NT: integer (nullable = true)\n",
      " |-- genotypes: array (nullable = true)\n",
      " |    |-- element: struct (containsNull = true)\n",
      " |    |    |-- sampleId: string (nullable = true)\n",
      " |    |    |-- FDP: integer (nullable = true)\n",
      " |    |    |-- GU: array (nullable = true)\n",
      " |    |    |    |-- element: integer (containsNull = true)\n",
      " |    |    |-- AU: array (nullable = true)\n",
      " |    |    |    |-- element: integer (containsNull = true)\n",
      " |    |    |-- depth: integer (nullable = true)\n",
      " |    |    |-- SUBDP: integer (nullable = true)\n",
      " |    |    |-- TU: array (nullable = true)\n",
      " |    |    |    |-- element: integer (containsNull = true)\n",
      " |    |    |-- SDP: integer (nullable = true)\n",
      " |    |    |-- CU: array (nullable = true)\n",
      " |    |    |    |-- element: integer (containsNull = true)\n",
      "\n",
      "CPU times: user 7.25 ms, sys: 1.86 ms, total: 9.11 ms\n",
      "Wall time: 3.78 s\n"
     ]
    }
   ],
   "source": [
    "%%time\n",
    "vcf = load_vcf(vcf_path)\n",
    "vcf.printSchema()"
   ]
  },
  {
   "cell_type": "markdown",
   "id": "0a823bca",
   "metadata": {},
   "source": [
    "#### Load and filter"
   ]
  },
  {
   "cell_type": "code",
   "execution_count": 12,
   "id": "168874cc",
   "metadata": {},
   "outputs": [
    {
     "name": "stderr",
     "output_type": "stream",
     "text": [
      "WARNING\t2021-08-10 01:14:36\tAsciiLineReader\tCreating an indexable source for an AsciiFeatureCodec using a stream that is neither a PositionalBufferedStream nor a BlockCompressedInputStream\n"
     ]
    },
    {
     "name": "stdout",
     "output_type": "stream",
     "text": [
      "CPU times: user 39.8 ms, sys: 8.93 ms, total: 48.8 ms\n",
      "Wall time: 419 ms\n"
     ]
    }
   ],
   "source": [
    "%%time\n",
    "tid, vcf = load_strelka_somatic_vcf(vcf_path)"
   ]
  },
  {
   "cell_type": "code",
   "execution_count": 17,
   "id": "5561c7dd",
   "metadata": {},
   "outputs": [
    {
     "name": "stderr",
     "output_type": "stream",
     "text": [
      "WARNING\t2021-08-10 01:19:09\tAsciiLineReader\tCreating an indexable source for an AsciiFeatureCodec using a stream that is neither a PositionalBufferedStream nor a BlockCompressedInputStream\n"
     ]
    },
    {
     "data": {
      "text/plain": [
       "[Row(contigName='1', start=97952, end=97953, names=None, referenceAllele='A', alternateAlleles=['G'], qual=None, filters=['PASS'], splitFromMultiAllelic=False, INFO_SomaticEVS=9.59, INFO_QSS_NT=58, INFO_PNOISE2=None, INFO_MQ0=28, INFO_ReadPosRankSum=-1.26, INFO_TQSS=2, INFO_SNVSB=0.0, INFO_DP=99, INFO_PNOISE=None, INFO_QSS=58, INFO_MQ=19.92, INFO_SGT='AA->AG', INFO_SOMATIC=True, INFO_NT='ref', INFO_TQSS_NT=2, FDP=0, GU=[9, 17], AU=[28, 39], depth=38, SUBDP=0, TU=[0, 0], SDP=0, CU=[1, 1]),\n",
       " Row(contigName='1', start=924291, end=924292, names=None, referenceAllele='A', alternateAlleles=['G'], qual=None, filters=['PASS'], splitFromMultiAllelic=False, INFO_SomaticEVS=17.71, INFO_QSS_NT=65, INFO_PNOISE2=None, INFO_MQ0=0, INFO_ReadPosRankSum=0.78, INFO_TQSS=1, INFO_SNVSB=0.0, INFO_DP=82, INFO_PNOISE=None, INFO_QSS=65, INFO_MQ=59.86, INFO_SGT='AA->AG', INFO_SOMATIC=True, INFO_NT='ref', INFO_TQSS_NT=1, FDP=2, GU=[10, 12], AU=[44, 45], depth=57, SUBDP=0, TU=[0, 0], SDP=0, CU=[1, 1])]"
      ]
     },
     "execution_count": 17,
     "metadata": {},
     "output_type": "execute_result"
    }
   ],
   "source": [
    "vcf.head(2)"
   ]
  },
  {
   "cell_type": "code",
   "execution_count": 166,
   "id": "f12d0110",
   "metadata": {},
   "outputs": [
    {
     "name": "stderr",
     "output_type": "stream",
     "text": [
      "WARNING\t2021-08-10 01:08:40\tAsciiLineReader\tCreating an indexable source for an AsciiFeatureCodec using a stream that is neither a PositionalBufferedStream nor a BlockCompressedInputStream\n",
      "WARNING\t2021-08-10 01:08:40\tAsciiLineReader\tCreating an indexable source for an AsciiFeatureCodec using a stream that is neither a PositionalBufferedStream nor a BlockCompressedInputStream\n",
      "WARNING\t2021-08-10 01:08:40\tAsciiLineReader\tCreating an indexable source for an AsciiFeatureCodec using a stream that is neither a PositionalBufferedStream nor a BlockCompressedInputStream\n",
      "WARNING\t2021-08-10 01:08:40\tAsciiLineReader\tCreating an indexable source for an AsciiFeatureCodec using a stream that is neither a PositionalBufferedStream nor a BlockCompressedInputStream\n"
     ]
    },
    {
     "name": "stdout",
     "output_type": "stream",
     "text": [
      "CPU times: user 4.84 ms, sys: 0 ns, total: 4.84 ms\n",
      "Wall time: 748 ms\n"
     ]
    },
    {
     "name": "stderr",
     "output_type": "stream",
     "text": [
      "\r",
      "[Stage 650:============================>                            (2 + 2) / 4]\r",
      "\r",
      "                                                                                \r"
     ]
    },
    {
     "data": {
      "text/plain": [
       "5911"
      ]
     },
     "execution_count": 166,
     "metadata": {},
     "output_type": "execute_result"
    }
   ],
   "source": [
    "%%time\n",
    "vcf.count()"
   ]
  },
  {
   "cell_type": "markdown",
   "id": "b0c96f4f",
   "metadata": {},
   "source": [
    "### Load 5 VCFs"
   ]
  },
  {
   "cell_type": "code",
   "execution_count": 110,
   "id": "9f08b9c0",
   "metadata": {},
   "outputs": [
    {
     "name": "stderr",
     "output_type": "stream",
     "text": [
      "WARNING\t2021-08-10 00:39:01\tAsciiLineReader\tCreating an indexable source for an AsciiFeatureCodec using a stream that is neither a PositionalBufferedStream nor a BlockCompressedInputStream\n",
      "WARNING\t2021-08-10 00:39:02\tAsciiLineReader\tCreating an indexable source for an AsciiFeatureCodec using a stream that is neither a PositionalBufferedStream nor a BlockCompressedInputStream\n",
      "WARNING\t2021-08-10 00:39:02\tAsciiLineReader\tCreating an indexable source for an AsciiFeatureCodec using a stream that is neither a PositionalBufferedStream nor a BlockCompressedInputStream\n",
      "WARNING\t2021-08-10 00:39:02\tAsciiLineReader\tCreating an indexable source for an AsciiFeatureCodec using a stream that is neither a PositionalBufferedStream nor a BlockCompressedInputStream\n"
     ]
    },
    {
     "name": "stdout",
     "output_type": "stream",
     "text": [
      "CPU times: user 154 ms, sys: 22.7 ms, total: 177 ms\n",
      "Wall time: 999 ms\n"
     ]
    },
    {
     "name": "stderr",
     "output_type": "stream",
     "text": [
      "WARNING\t2021-08-10 00:39:02\tAsciiLineReader\tCreating an indexable source for an AsciiFeatureCodec using a stream that is neither a PositionalBufferedStream nor a BlockCompressedInputStream\n"
     ]
    }
   ],
   "source": [
    "%%time\n",
    "\n",
    "vcf_df = None\n",
    "for p in vcf_paths:\n",
    "    tid, vcf = load_strelka_somatic_vcf(p)\n",
    "    new_vcf = vcf.withColumn('sampleId', lit(tid)) #spark.createDataFrame([(tid, vcf)], schema)\n",
    "    vcf_df = new_vcf if vcf_df is None else vcf_df.unionAll(new_vcf)\n",
    "    "
   ]
  },
  {
   "cell_type": "markdown",
   "id": "0c3bf349",
   "metadata": {},
   "source": [
    "#### Count variants per sample"
   ]
  },
  {
   "cell_type": "code",
   "execution_count": 118,
   "id": "80d33d2e",
   "metadata": {},
   "outputs": [
    {
     "name": "stderr",
     "output_type": "stream",
     "text": [
      "WARNING\t2021-08-10 00:46:26\tAsciiLineReader\tCreating an indexable source for an AsciiFeatureCodec using a stream that is neither a PositionalBufferedStream nor a BlockCompressedInputStream\n",
      "WARNING\t2021-08-10 00:46:26\tAsciiLineReader\tCreating an indexable source for an AsciiFeatureCodec using a stream that is neither a PositionalBufferedStream nor a BlockCompressedInputStream\n",
      "WARNING\t2021-08-10 00:46:26\tAsciiLineReader\tCreating an indexable source for an AsciiFeatureCodec using a stream that is neither a PositionalBufferedStream nor a BlockCompressedInputStream\n",
      "WARNING\t2021-08-10 00:46:26\tAsciiLineReader\tCreating an indexable source for an AsciiFeatureCodec using a stream that is neither a PositionalBufferedStream nor a BlockCompressedInputStream\n",
      "WARNING\t2021-08-10 00:46:27\tAsciiLineReader\tCreating an indexable source for an AsciiFeatureCodec using a stream that is neither a PositionalBufferedStream nor a BlockCompressedInputStream\n",
      "WARNING\t2021-08-10 00:46:27\tAsciiLineReader\tCreating an indexable source for an AsciiFeatureCodec using a stream that is neither a PositionalBufferedStream nor a BlockCompressedInputStream\n",
      "WARNING\t2021-08-10 00:46:27\tAsciiLineReader\tCreating an indexable source for an AsciiFeatureCodec using a stream that is neither a PositionalBufferedStream nor a BlockCompressedInputStream\n",
      "WARNING\t2021-08-10 00:46:27\tAsciiLineReader\tCreating an indexable source for an AsciiFeatureCodec using a stream that is neither a PositionalBufferedStream nor a BlockCompressedInputStream\n",
      "WARNING\t2021-08-10 00:46:28\tAsciiLineReader\tCreating an indexable source for an AsciiFeatureCodec using a stream that is neither a PositionalBufferedStream nor a BlockCompressedInputStream\n",
      "WARNING\t2021-08-10 00:46:28\tAsciiLineReader\tCreating an indexable source for an AsciiFeatureCodec using a stream that is neither a PositionalBufferedStream nor a BlockCompressedInputStream\n",
      "WARNING\t2021-08-10 00:46:29\tAsciiLineReader\tCreating an indexable source for an AsciiFeatureCodec using a stream that is neither a PositionalBufferedStream nor a BlockCompressedInputStream\n",
      "WARNING\t2021-08-10 00:46:29\tAsciiLineReader\tCreating an indexable source for an AsciiFeatureCodec using a stream that is neither a PositionalBufferedStream nor a BlockCompressedInputStream\n",
      "WARNING\t2021-08-10 00:46:29\tAsciiLineReader\tCreating an indexable source for an AsciiFeatureCodec using a stream that is neither a PositionalBufferedStream nor a BlockCompressedInputStream\n",
      "WARNING\t2021-08-10 00:46:30\tAsciiLineReader\tCreating an indexable source for an AsciiFeatureCodec using a stream that is neither a PositionalBufferedStream nor a BlockCompressedInputStream\n",
      "WARNING\t2021-08-10 00:46:30\tAsciiLineReader\tCreating an indexable source for an AsciiFeatureCodec using a stream that is neither a PositionalBufferedStream nor a BlockCompressedInputStream\n",
      "WARNING\t2021-08-10 00:46:30\tAsciiLineReader\tCreating an indexable source for an AsciiFeatureCodec using a stream that is neither a PositionalBufferedStream nor a BlockCompressedInputStream\n",
      "WARNING\t2021-08-10 00:46:31\tAsciiLineReader\tCreating an indexable source for an AsciiFeatureCodec using a stream that is neither a PositionalBufferedStream nor a BlockCompressedInputStream\n",
      "WARNING\t2021-08-10 00:46:31\tAsciiLineReader\tCreating an indexable source for an AsciiFeatureCodec using a stream that is neither a PositionalBufferedStream nor a BlockCompressedInputStream\n",
      "WARNING\t2021-08-10 00:46:31\tAsciiLineReader\tCreating an indexable source for an AsciiFeatureCodec using a stream that is neither a PositionalBufferedStream nor a BlockCompressedInputStream\n",
      "WARNING\t2021-08-10 00:46:32\tAsciiLineReader\tCreating an indexable source for an AsciiFeatureCodec using a stream that is neither a PositionalBufferedStream nor a BlockCompressedInputStream\n",
      "[Stage 555:==================================================>  (192 + 4) / 200]\r"
     ]
    },
    {
     "name": "stdout",
     "output_type": "stream",
     "text": [
      "CPU times: user 41.2 ms, sys: 0 ns, total: 41.2 ms\n",
      "Wall time: 9.13 s\n"
     ]
    },
    {
     "name": "stderr",
     "output_type": "stream",
     "text": [
      "\r",
      "                                                                                \r"
     ]
    }
   ],
   "source": [
    "%%time\n",
    "\n",
    "def get_variants_per_sample(df):\n",
    "    df.groupBy('sampleId').count().collect()\n",
    "    \n",
    "get_variants_per_sample(vcf_df)\n"
   ]
  },
  {
   "cell_type": "markdown",
   "id": "9dd87d86",
   "metadata": {},
   "source": [
    "#### Get min POS for each sample and each chromosome"
   ]
  },
  {
   "cell_type": "code",
   "execution_count": 119,
   "id": "163592b1",
   "metadata": {},
   "outputs": [
    {
     "name": "stderr",
     "output_type": "stream",
     "text": [
      "WARNING\t2021-08-10 00:47:12\tAsciiLineReader\tCreating an indexable source for an AsciiFeatureCodec using a stream that is neither a PositionalBufferedStream nor a BlockCompressedInputStream\n",
      "WARNING\t2021-08-10 00:47:12\tAsciiLineReader\tCreating an indexable source for an AsciiFeatureCodec using a stream that is neither a PositionalBufferedStream nor a BlockCompressedInputStream\n",
      "WARNING\t2021-08-10 00:47:12\tAsciiLineReader\tCreating an indexable source for an AsciiFeatureCodec using a stream that is neither a PositionalBufferedStream nor a BlockCompressedInputStream\n",
      "WARNING\t2021-08-10 00:47:12\tAsciiLineReader\tCreating an indexable source for an AsciiFeatureCodec using a stream that is neither a PositionalBufferedStream nor a BlockCompressedInputStream\n",
      "WARNING\t2021-08-10 00:47:12\tAsciiLineReader\tCreating an indexable source for an AsciiFeatureCodec using a stream that is neither a PositionalBufferedStream nor a BlockCompressedInputStream\n",
      "WARNING\t2021-08-10 00:47:13\tAsciiLineReader\tCreating an indexable source for an AsciiFeatureCodec using a stream that is neither a PositionalBufferedStream nor a BlockCompressedInputStream\n",
      "WARNING\t2021-08-10 00:47:13\tAsciiLineReader\tCreating an indexable source for an AsciiFeatureCodec using a stream that is neither a PositionalBufferedStream nor a BlockCompressedInputStream\n",
      "WARNING\t2021-08-10 00:47:13\tAsciiLineReader\tCreating an indexable source for an AsciiFeatureCodec using a stream that is neither a PositionalBufferedStream nor a BlockCompressedInputStream\n",
      "WARNING\t2021-08-10 00:47:14\tAsciiLineReader\tCreating an indexable source for an AsciiFeatureCodec using a stream that is neither a PositionalBufferedStream nor a BlockCompressedInputStream\n",
      "WARNING\t2021-08-10 00:47:14\tAsciiLineReader\tCreating an indexable source for an AsciiFeatureCodec using a stream that is neither a PositionalBufferedStream nor a BlockCompressedInputStream\n",
      "WARNING\t2021-08-10 00:47:14\tAsciiLineReader\tCreating an indexable source for an AsciiFeatureCodec using a stream that is neither a PositionalBufferedStream nor a BlockCompressedInputStream\n",
      "WARNING\t2021-08-10 00:47:14\tAsciiLineReader\tCreating an indexable source for an AsciiFeatureCodec using a stream that is neither a PositionalBufferedStream nor a BlockCompressedInputStream\n",
      "WARNING\t2021-08-10 00:47:15\tAsciiLineReader\tCreating an indexable source for an AsciiFeatureCodec using a stream that is neither a PositionalBufferedStream nor a BlockCompressedInputStream\n",
      "WARNING\t2021-08-10 00:47:15\tAsciiLineReader\tCreating an indexable source for an AsciiFeatureCodec using a stream that is neither a PositionalBufferedStream nor a BlockCompressedInputStream\n",
      "WARNING\t2021-08-10 00:47:15\tAsciiLineReader\tCreating an indexable source for an AsciiFeatureCodec using a stream that is neither a PositionalBufferedStream nor a BlockCompressedInputStream\n",
      "WARNING\t2021-08-10 00:47:15\tAsciiLineReader\tCreating an indexable source for an AsciiFeatureCodec using a stream that is neither a PositionalBufferedStream nor a BlockCompressedInputStream\n",
      "WARNING\t2021-08-10 00:47:16\tAsciiLineReader\tCreating an indexable source for an AsciiFeatureCodec using a stream that is neither a PositionalBufferedStream nor a BlockCompressedInputStream\n",
      "WARNING\t2021-08-10 00:47:16\tAsciiLineReader\tCreating an indexable source for an AsciiFeatureCodec using a stream that is neither a PositionalBufferedStream nor a BlockCompressedInputStream\n",
      "WARNING\t2021-08-10 00:47:16\tAsciiLineReader\tCreating an indexable source for an AsciiFeatureCodec using a stream that is neither a PositionalBufferedStream nor a BlockCompressedInputStream\n",
      "WARNING\t2021-08-10 00:47:16\tAsciiLineReader\tCreating an indexable source for an AsciiFeatureCodec using a stream that is neither a PositionalBufferedStream nor a BlockCompressedInputStream\n",
      "[Stage 557:====================================================>(199 + 1) / 200]\r"
     ]
    },
    {
     "name": "stdout",
     "output_type": "stream",
     "text": [
      "CPU times: user 28.3 ms, sys: 11.2 ms, total: 39.6 ms\n",
      "Wall time: 8.87 s\n"
     ]
    },
    {
     "name": "stderr",
     "output_type": "stream",
     "text": [
      "\r",
      "                                                                                \r"
     ]
    }
   ],
   "source": [
    "%%time\n",
    "\n",
    "def count_min_pos_per_chromosome(df):\n",
    "    df.groupBy('sampleId', 'contigName').agg(fx.min(df.start)).collect()\n",
    "    \n",
    "count_min_pos_per_chromosome(vcf_df)"
   ]
  },
  {
   "cell_type": "markdown",
   "id": "forward-zimbabwe",
   "metadata": {},
   "source": [
    "## Make data lake"
   ]
  },
  {
   "cell_type": "code",
   "execution_count": null,
   "id": "56757b4b",
   "metadata": {},
   "outputs": [],
   "source": [
    "def save_datalake(vcf_obj, path):\n",
    "    (\n",
    "      vcf_obj\n",
    "      .write\n",
    "      .format(\"delta\")\n",
    "      .mode(\"overwrite\")\n",
    "      .save(path)\n",
    "    )\n",
    "\n",
    "def load_datalake(path):\n",
    "    delta_vcf = spark.read.format(\"delta\").load(path)    \n",
    "    return delta_vcf"
   ]
  },
  {
   "cell_type": "markdown",
   "id": "0dc6a8f8",
   "metadata": {},
   "source": [
    "### Single sample"
   ]
  },
  {
   "cell_type": "code",
   "execution_count": 124,
   "id": "b59adfc5",
   "metadata": {},
   "outputs": [
    {
     "name": "stderr",
     "output_type": "stream",
     "text": [
      "WARNING\t2021-08-10 00:51:54\tAsciiLineReader\tCreating an indexable source for an AsciiFeatureCodec using a stream that is neither a PositionalBufferedStream nor a BlockCompressedInputStream\n",
      "WARNING\t2021-08-10 00:51:54\tAsciiLineReader\tCreating an indexable source for an AsciiFeatureCodec using a stream that is neither a PositionalBufferedStream nor a BlockCompressedInputStream\n",
      "WARNING\t2021-08-10 00:51:54\tAsciiLineReader\tCreating an indexable source for an AsciiFeatureCodec using a stream that is neither a PositionalBufferedStream nor a BlockCompressedInputStream\n",
      "WARNING\t2021-08-10 00:51:54\tAsciiLineReader\tCreating an indexable source for an AsciiFeatureCodec using a stream that is neither a PositionalBufferedStream nor a BlockCompressedInputStream\n",
      "[Stage 572:===================================>                   (32 + 4) / 50]\r"
     ]
    },
    {
     "name": "stdout",
     "output_type": "stream",
     "text": [
      "CPU times: user 10.6 ms, sys: 4.02 ms, total: 14.7 ms\n",
      "Wall time: 10.2 s\n"
     ]
    },
    {
     "name": "stderr",
     "output_type": "stream",
     "text": [
      "\r",
      "[Stage 572:=============================================>         (41 + 4) / 50]\r",
      "\r",
      "                                                                                \r"
     ]
    }
   ],
   "source": [
    "%%time\n",
    "single_lake = \"delta/test-delta\"\n",
    "save_datalake(vcf, single_lake)"
   ]
  },
  {
   "cell_type": "markdown",
   "id": "95c0c70e",
   "metadata": {},
   "source": [
    "### Multisample"
   ]
  },
  {
   "cell_type": "code",
   "execution_count": 125,
   "id": "3ee00c99",
   "metadata": {},
   "outputs": [
    {
     "name": "stderr",
     "output_type": "stream",
     "text": [
      "21/08/10 00:52:17 WARN DAGScheduler: Broadcasting large task binary with size 1169.8 KiB\n",
      "WARNING\t2021-08-10 00:52:17\tAsciiLineReader\tCreating an indexable source for an AsciiFeatureCodec using a stream that is neither a PositionalBufferedStream nor a BlockCompressedInputStream\n",
      "WARNING\t2021-08-10 00:52:17\tAsciiLineReader\tCreating an indexable source for an AsciiFeatureCodec using a stream that is neither a PositionalBufferedStream nor a BlockCompressedInputStream\n",
      "WARNING\t2021-08-10 00:52:17\tAsciiLineReader\tCreating an indexable source for an AsciiFeatureCodec using a stream that is neither a PositionalBufferedStream nor a BlockCompressedInputStream\n",
      "WARNING\t2021-08-10 00:52:17\tAsciiLineReader\tCreating an indexable source for an AsciiFeatureCodec using a stream that is neither a PositionalBufferedStream nor a BlockCompressedInputStream\n",
      "WARNING\t2021-08-10 00:52:19\tAsciiLineReader\tCreating an indexable source for an AsciiFeatureCodec using a stream that is neither a PositionalBufferedStream nor a BlockCompressedInputStream\n",
      "WARNING\t2021-08-10 00:52:22\tAsciiLineReader\tCreating an indexable source for an AsciiFeatureCodec using a stream that is neither a PositionalBufferedStream nor a BlockCompressedInputStream\n",
      "WARNING\t2021-08-10 00:52:22\tAsciiLineReader\tCreating an indexable source for an AsciiFeatureCodec using a stream that is neither a PositionalBufferedStream nor a BlockCompressedInputStream\n",
      "WARNING\t2021-08-10 00:52:22\tAsciiLineReader\tCreating an indexable source for an AsciiFeatureCodec using a stream that is neither a PositionalBufferedStream nor a BlockCompressedInputStream\n",
      "WARNING\t2021-08-10 00:52:25\tAsciiLineReader\tCreating an indexable source for an AsciiFeatureCodec using a stream that is neither a PositionalBufferedStream nor a BlockCompressedInputStream\n",
      "WARNING\t2021-08-10 00:52:26\tAsciiLineReader\tCreating an indexable source for an AsciiFeatureCodec using a stream that is neither a PositionalBufferedStream nor a BlockCompressedInputStream\n",
      "WARNING\t2021-08-10 00:52:28\tAsciiLineReader\tCreating an indexable source for an AsciiFeatureCodec using a stream that is neither a PositionalBufferedStream nor a BlockCompressedInputStream\n",
      "WARNING\t2021-08-10 00:52:29\tAsciiLineReader\tCreating an indexable source for an AsciiFeatureCodec using a stream that is neither a PositionalBufferedStream nor a BlockCompressedInputStream\n",
      "WARNING\t2021-08-10 00:52:31\tAsciiLineReader\tCreating an indexable source for an AsciiFeatureCodec using a stream that is neither a PositionalBufferedStream nor a BlockCompressedInputStream\n",
      "WARNING\t2021-08-10 00:52:31\tAsciiLineReader\tCreating an indexable source for an AsciiFeatureCodec using a stream that is neither a PositionalBufferedStream nor a BlockCompressedInputStream\n",
      "WARNING\t2021-08-10 00:52:31\tAsciiLineReader\tCreating an indexable source for an AsciiFeatureCodec using a stream that is neither a PositionalBufferedStream nor a BlockCompressedInputStream\n",
      "WARNING\t2021-08-10 00:52:33\tAsciiLineReader\tCreating an indexable source for an AsciiFeatureCodec using a stream that is neither a PositionalBufferedStream nor a BlockCompressedInputStream\n",
      "WARNING\t2021-08-10 00:52:37\tAsciiLineReader\tCreating an indexable source for an AsciiFeatureCodec using a stream that is neither a PositionalBufferedStream nor a BlockCompressedInputStream\n",
      "WARNING\t2021-08-10 00:52:38\tAsciiLineReader\tCreating an indexable source for an AsciiFeatureCodec using a stream that is neither a PositionalBufferedStream nor a BlockCompressedInputStream\n",
      "WARNING\t2021-08-10 00:52:38\tAsciiLineReader\tCreating an indexable source for an AsciiFeatureCodec using a stream that is neither a PositionalBufferedStream nor a BlockCompressedInputStream\n",
      "WARNING\t2021-08-10 00:52:38\tAsciiLineReader\tCreating an indexable source for an AsciiFeatureCodec using a stream that is neither a PositionalBufferedStream nor a BlockCompressedInputStream\n",
      "[Stage 576:=================================================>     (45 + 4) / 50]\r"
     ]
    },
    {
     "name": "stdout",
     "output_type": "stream",
     "text": [
      "CPU times: user 18.1 ms, sys: 25.1 ms, total: 43.2 ms\n",
      "Wall time: 32.7 s\n"
     ]
    },
    {
     "name": "stderr",
     "output_type": "stream",
     "text": [
      "\r",
      "                                                                                \r"
     ]
    }
   ],
   "source": [
    "%%time\n",
    "multi_lake = \"delta/test-delta-multi\"\n",
    "\n",
    "save_datalake(vcf_df, multi_lake)"
   ]
  },
  {
   "cell_type": "markdown",
   "id": "03de5abd",
   "metadata": {},
   "source": [
    "## Load datalake"
   ]
  },
  {
   "cell_type": "code",
   "execution_count": 126,
   "id": "conventional-great",
   "metadata": {},
   "outputs": [
    {
     "name": "stdout",
     "output_type": "stream",
     "text": [
      "+----------+------+------+-----+---------------+----------------+----+-------+---------------------+---------------+-----------+------------+--------+-------------------+---------+----------+-------+-----------+--------+-------+--------+------------+-------+------------+---+------+--------+-----+-----+--------+---+------+-------------+\n",
      "|contigName| start|   end|names|referenceAllele|alternateAlleles|qual|filters|splitFromMultiAllelic|INFO_SomaticEVS|INFO_QSS_NT|INFO_PNOISE2|INFO_MQ0|INFO_ReadPosRankSum|INFO_TQSS|INFO_SNVSB|INFO_DP|INFO_PNOISE|INFO_QSS|INFO_MQ|INFO_SGT|INFO_SOMATIC|INFO_NT|INFO_TQSS_NT|FDP|    GU|      AU|depth|SUBDP|      TU|SDP|    CU|     sampleId|\n",
      "+----------+------+------+-----+---------------+----------------+----+-------+---------------------+---------------+-----------+------------+--------+-------------------+---------+----------+-------+-----------+--------+-------+--------+------------+-------+------------+---+------+--------+-----+-----+--------+---+------+-------------+\n",
      "|         1|526071|526072| null|              T|             [G]|null| [PASS]|                false|           7.78|         38|        null|       2|              -0.15|        2|       0.0|     76|       null|      38|  50.53|  TT->GT|        true|    ref|           2|  1|[7, 7]|  [2, 2]|   51|    0|[41, 43]|  0|[0, 0]|CPCT02060120T|\n",
      "|         1|536165|536166| null|              A|             [T]|null| [PASS]|                false|           7.43|         69|        null|      14|                1.9|        1|       0.0|    129|       null|      69|  34.41|  AA->AT|        true|    ref|           1|  1|[0, 0]|[47, 74]|   56|    0| [8, 13]|  0|[0, 0]|CPCT02060120T|\n",
      "+----------+------+------+-----+---------------+----------------+----+-------+---------------------+---------------+-----------+------------+--------+-------------------+---------+----------+-------+-----------+--------+-------+--------+------------+-------+------------+---+------+--------+-----+-----+--------+---+------+-------------+\n",
      "only showing top 2 rows\n",
      "\n",
      "CPU times: user 3.94 ms, sys: 0 ns, total: 3.94 ms\n",
      "Wall time: 472 ms\n"
     ]
    }
   ],
   "source": [
    "%%time\n",
    "delta_vcfs = load_datalake(multi_lake)\n",
    "delta_vcfs.show(n=2)"
   ]
  },
  {
   "cell_type": "code",
   "execution_count": 127,
   "id": "033c7d3d",
   "metadata": {},
   "outputs": [
    {
     "name": "stdout",
     "output_type": "stream",
     "text": [
      "CPU times: user 2.03 ms, sys: 112 µs, total: 2.15 ms\n",
      "Wall time: 423 ms\n"
     ]
    },
    {
     "data": {
      "text/plain": [
       "71174"
      ]
     },
     "execution_count": 127,
     "metadata": {},
     "output_type": "execute_result"
    }
   ],
   "source": [
    "%%time\n",
    "delta_vcfs.count()"
   ]
  },
  {
   "cell_type": "markdown",
   "id": "fitting-idaho",
   "metadata": {},
   "source": [
    "## Timings"
   ]
  },
  {
   "cell_type": "markdown",
   "id": "ed3686b8",
   "metadata": {},
   "source": [
    "### Filtering"
   ]
  },
  {
   "cell_type": "code",
   "execution_count": 132,
   "id": "97310548",
   "metadata": {},
   "outputs": [],
   "source": [
    "def get_to_G_subs(df):\n",
    "    return df.filter(array_contains(col(\"alternateAlleles\"), 'G'))"
   ]
  },
  {
   "cell_type": "code",
   "execution_count": 135,
   "id": "30fb6a29",
   "metadata": {},
   "outputs": [
    {
     "name": "stderr",
     "output_type": "stream",
     "text": [
      "WARNING\t2021-08-10 00:58:06\tAsciiLineReader\tCreating an indexable source for an AsciiFeatureCodec using a stream that is neither a PositionalBufferedStream nor a BlockCompressedInputStream\n",
      "WARNING\t2021-08-10 00:58:06\tAsciiLineReader\tCreating an indexable source for an AsciiFeatureCodec using a stream that is neither a PositionalBufferedStream nor a BlockCompressedInputStream\n",
      "WARNING\t2021-08-10 00:58:06\tAsciiLineReader\tCreating an indexable source for an AsciiFeatureCodec using a stream that is neither a PositionalBufferedStream nor a BlockCompressedInputStream\n",
      "WARNING\t2021-08-10 00:58:06\tAsciiLineReader\tCreating an indexable source for an AsciiFeatureCodec using a stream that is neither a PositionalBufferedStream nor a BlockCompressedInputStream\n",
      "WARNING\t2021-08-10 00:58:07\tAsciiLineReader\tCreating an indexable source for an AsciiFeatureCodec using a stream that is neither a PositionalBufferedStream nor a BlockCompressedInputStream\n",
      "WARNING\t2021-08-10 00:58:07\tAsciiLineReader\tCreating an indexable source for an AsciiFeatureCodec using a stream that is neither a PositionalBufferedStream nor a BlockCompressedInputStream\n",
      "WARNING\t2021-08-10 00:58:07\tAsciiLineReader\tCreating an indexable source for an AsciiFeatureCodec using a stream that is neither a PositionalBufferedStream nor a BlockCompressedInputStream\n",
      "WARNING\t2021-08-10 00:58:07\tAsciiLineReader\tCreating an indexable source for an AsciiFeatureCodec using a stream that is neither a PositionalBufferedStream nor a BlockCompressedInputStream\n",
      "WARNING\t2021-08-10 00:58:08\tAsciiLineReader\tCreating an indexable source for an AsciiFeatureCodec using a stream that is neither a PositionalBufferedStream nor a BlockCompressedInputStream\n",
      "WARNING\t2021-08-10 00:58:08\tAsciiLineReader\tCreating an indexable source for an AsciiFeatureCodec using a stream that is neither a PositionalBufferedStream nor a BlockCompressedInputStream\n",
      "WARNING\t2021-08-10 00:58:09\tAsciiLineReader\tCreating an indexable source for an AsciiFeatureCodec using a stream that is neither a PositionalBufferedStream nor a BlockCompressedInputStream\n",
      "WARNING\t2021-08-10 00:58:09\tAsciiLineReader\tCreating an indexable source for an AsciiFeatureCodec using a stream that is neither a PositionalBufferedStream nor a BlockCompressedInputStream\n",
      "WARNING\t2021-08-10 00:58:09\tAsciiLineReader\tCreating an indexable source for an AsciiFeatureCodec using a stream that is neither a PositionalBufferedStream nor a BlockCompressedInputStream\n",
      "WARNING\t2021-08-10 00:58:09\tAsciiLineReader\tCreating an indexable source for an AsciiFeatureCodec using a stream that is neither a PositionalBufferedStream nor a BlockCompressedInputStream\n",
      "WARNING\t2021-08-10 00:58:09\tAsciiLineReader\tCreating an indexable source for an AsciiFeatureCodec using a stream that is neither a PositionalBufferedStream nor a BlockCompressedInputStream\n",
      "WARNING\t2021-08-10 00:58:10\tAsciiLineReader\tCreating an indexable source for an AsciiFeatureCodec using a stream that is neither a PositionalBufferedStream nor a BlockCompressedInputStream\n",
      "WARNING\t2021-08-10 00:58:10\tAsciiLineReader\tCreating an indexable source for an AsciiFeatureCodec using a stream that is neither a PositionalBufferedStream nor a BlockCompressedInputStream\n",
      "WARNING\t2021-08-10 00:58:10\tAsciiLineReader\tCreating an indexable source for an AsciiFeatureCodec using a stream that is neither a PositionalBufferedStream nor a BlockCompressedInputStream\n",
      "WARNING\t2021-08-10 00:58:10\tAsciiLineReader\tCreating an indexable source for an AsciiFeatureCodec using a stream that is neither a PositionalBufferedStream nor a BlockCompressedInputStream\n",
      "WARNING\t2021-08-10 00:58:11\tAsciiLineReader\tCreating an indexable source for an AsciiFeatureCodec using a stream that is neither a PositionalBufferedStream nor a BlockCompressedInputStream\n",
      "                                                                                \r"
     ]
    }
   ],
   "source": [
    "%%time\n",
    "get_to_G_subs(vcf_df).count()"
   ]
  },
  {
   "cell_type": "code",
   "execution_count": 136,
   "id": "foreign-receipt",
   "metadata": {},
   "outputs": [
    {
     "name": "stdout",
     "output_type": "stream",
     "text": [
      "CPU times: user 3.49 ms, sys: 552 µs, total: 4.05 ms\n",
      "Wall time: 448 ms\n"
     ]
    },
    {
     "data": {
      "text/plain": [
       "16360"
      ]
     },
     "execution_count": 136,
     "metadata": {},
     "output_type": "execute_result"
    }
   ],
   "source": [
    "%%time\n",
    "get_to_G_subs(delta_vcfs).count()"
   ]
  },
  {
   "cell_type": "markdown",
   "id": "e6aa676c",
   "metadata": {},
   "source": [
    "### Filter and select columns"
   ]
  },
  {
   "cell_type": "code",
   "execution_count": 144,
   "id": "c6df70db",
   "metadata": {},
   "outputs": [
    {
     "name": "stderr",
     "output_type": "stream",
     "text": [
      "WARNING\t2021-08-10 01:00:19\tAsciiLineReader\tCreating an indexable source for an AsciiFeatureCodec using a stream that is neither a PositionalBufferedStream nor a BlockCompressedInputStream\n",
      "WARNING\t2021-08-10 01:00:19\tAsciiLineReader\tCreating an indexable source for an AsciiFeatureCodec using a stream that is neither a PositionalBufferedStream nor a BlockCompressedInputStream\n",
      "WARNING\t2021-08-10 01:00:19\tAsciiLineReader\tCreating an indexable source for an AsciiFeatureCodec using a stream that is neither a PositionalBufferedStream nor a BlockCompressedInputStream\n",
      "WARNING\t2021-08-10 01:00:19\tAsciiLineReader\tCreating an indexable source for an AsciiFeatureCodec using a stream that is neither a PositionalBufferedStream nor a BlockCompressedInputStream\n",
      "WARNING\t2021-08-10 01:00:19\tAsciiLineReader\tCreating an indexable source for an AsciiFeatureCodec using a stream that is neither a PositionalBufferedStream nor a BlockCompressedInputStream\n",
      "WARNING\t2021-08-10 01:00:20\tAsciiLineReader\tCreating an indexable source for an AsciiFeatureCodec using a stream that is neither a PositionalBufferedStream nor a BlockCompressedInputStream\n",
      "WARNING\t2021-08-10 01:00:20\tAsciiLineReader\tCreating an indexable source for an AsciiFeatureCodec using a stream that is neither a PositionalBufferedStream nor a BlockCompressedInputStream\n",
      "WARNING\t2021-08-10 01:00:20\tAsciiLineReader\tCreating an indexable source for an AsciiFeatureCodec using a stream that is neither a PositionalBufferedStream nor a BlockCompressedInputStream\n",
      "WARNING\t2021-08-10 01:00:21\tAsciiLineReader\tCreating an indexable source for an AsciiFeatureCodec using a stream that is neither a PositionalBufferedStream nor a BlockCompressedInputStream\n",
      "WARNING\t2021-08-10 01:00:21\tAsciiLineReader\tCreating an indexable source for an AsciiFeatureCodec using a stream that is neither a PositionalBufferedStream nor a BlockCompressedInputStream\n",
      "WARNING\t2021-08-10 01:00:21\tAsciiLineReader\tCreating an indexable source for an AsciiFeatureCodec using a stream that is neither a PositionalBufferedStream nor a BlockCompressedInputStream\n",
      "WARNING\t2021-08-10 01:00:22\tAsciiLineReader\tCreating an indexable source for an AsciiFeatureCodec using a stream that is neither a PositionalBufferedStream nor a BlockCompressedInputStream\n",
      "WARNING\t2021-08-10 01:00:22\tAsciiLineReader\tCreating an indexable source for an AsciiFeatureCodec using a stream that is neither a PositionalBufferedStream nor a BlockCompressedInputStream\n",
      "WARNING\t2021-08-10 01:00:22\tAsciiLineReader\tCreating an indexable source for an AsciiFeatureCodec using a stream that is neither a PositionalBufferedStream nor a BlockCompressedInputStream\n",
      "WARNING\t2021-08-10 01:00:22\tAsciiLineReader\tCreating an indexable source for an AsciiFeatureCodec using a stream that is neither a PositionalBufferedStream nor a BlockCompressedInputStream\n",
      "WARNING\t2021-08-10 01:00:23\tAsciiLineReader\tCreating an indexable source for an AsciiFeatureCodec using a stream that is neither a PositionalBufferedStream nor a BlockCompressedInputStream\n",
      "WARNING\t2021-08-10 01:00:24\tAsciiLineReader\tCreating an indexable source for an AsciiFeatureCodec using a stream that is neither a PositionalBufferedStream nor a BlockCompressedInputStream\n",
      "WARNING\t2021-08-10 01:00:24\tAsciiLineReader\tCreating an indexable source for an AsciiFeatureCodec using a stream that is neither a PositionalBufferedStream nor a BlockCompressedInputStream\n",
      "WARNING\t2021-08-10 01:00:24\tAsciiLineReader\tCreating an indexable source for an AsciiFeatureCodec using a stream that is neither a PositionalBufferedStream nor a BlockCompressedInputStream\n",
      "WARNING\t2021-08-10 01:00:24\tAsciiLineReader\tCreating an indexable source for an AsciiFeatureCodec using a stream that is neither a PositionalBufferedStream nor a BlockCompressedInputStream\n",
      "[Stage 610:==============================================>        (17 + 3) / 20]\r"
     ]
    },
    {
     "name": "stdout",
     "output_type": "stream",
     "text": [
      "CPU times: user 77.8 ms, sys: 799 µs, total: 78.6 ms\n",
      "Wall time: 6.74 s\n"
     ]
    },
    {
     "name": "stderr",
     "output_type": "stream",
     "text": [
      "\r",
      "                                                                                \r"
     ]
    },
    {
     "data": {
      "text/plain": [
       "[Row(start=97952),\n",
       " Row(start=924291),\n",
       " Row(start=1522384),\n",
       " Row(start=2625453),\n",
       " Row(start=4281550),\n",
       " Row(start=5792658),\n",
       " Row(start=5873748),\n",
       " Row(start=6539592),\n",
       " Row(start=7560292),\n",
       " Row(start=11157675)]"
      ]
     },
     "execution_count": 144,
     "metadata": {},
     "output_type": "execute_result"
    }
   ],
   "source": [
    "%%time\n",
    "get_to_G_subs(vcf_df).select(vcf_df.start).collect()[0:10]"
   ]
  },
  {
   "cell_type": "code",
   "execution_count": 143,
   "id": "gross-asbestos",
   "metadata": {},
   "outputs": [
    {
     "name": "stdout",
     "output_type": "stream",
     "text": [
      "CPU times: user 140 ms, sys: 3.85 ms, total: 144 ms\n",
      "Wall time: 559 ms\n"
     ]
    },
    {
     "data": {
      "text/plain": [
       "[Row(start=526071),\n",
       " Row(start=924615),\n",
       " Row(start=1125050),\n",
       " Row(start=1194479),\n",
       " Row(start=1205188),\n",
       " Row(start=1530945),\n",
       " Row(start=1695385),\n",
       " Row(start=2038188),\n",
       " Row(start=2354417),\n",
       " Row(start=2630709)]"
      ]
     },
     "execution_count": 143,
     "metadata": {},
     "output_type": "execute_result"
    }
   ],
   "source": [
    "%%time\n",
    "get_to_G_subs(delta_vcfs).select(delta_vcfs.start).collect()[0:10]"
   ]
  },
  {
   "cell_type": "markdown",
   "id": "4b5fbf5c",
   "metadata": {},
   "source": [
    "### Select column on full"
   ]
  },
  {
   "cell_type": "code",
   "execution_count": 148,
   "id": "faf4989c",
   "metadata": {},
   "outputs": [
    {
     "name": "stderr",
     "output_type": "stream",
     "text": [
      "WARNING\t2021-08-10 01:02:01\tAsciiLineReader\tCreating an indexable source for an AsciiFeatureCodec using a stream that is neither a PositionalBufferedStream nor a BlockCompressedInputStream\n",
      "WARNING\t2021-08-10 01:02:01\tAsciiLineReader\tCreating an indexable source for an AsciiFeatureCodec using a stream that is neither a PositionalBufferedStream nor a BlockCompressedInputStream\n",
      "WARNING\t2021-08-10 01:02:01\tAsciiLineReader\tCreating an indexable source for an AsciiFeatureCodec using a stream that is neither a PositionalBufferedStream nor a BlockCompressedInputStream\n",
      "WARNING\t2021-08-10 01:02:01\tAsciiLineReader\tCreating an indexable source for an AsciiFeatureCodec using a stream that is neither a PositionalBufferedStream nor a BlockCompressedInputStream\n",
      "WARNING\t2021-08-10 01:02:01\tAsciiLineReader\tCreating an indexable source for an AsciiFeatureCodec using a stream that is neither a PositionalBufferedStream nor a BlockCompressedInputStream\n",
      "WARNING\t2021-08-10 01:02:02\tAsciiLineReader\tCreating an indexable source for an AsciiFeatureCodec using a stream that is neither a PositionalBufferedStream nor a BlockCompressedInputStream\n",
      "WARNING\t2021-08-10 01:02:02\tAsciiLineReader\tCreating an indexable source for an AsciiFeatureCodec using a stream that is neither a PositionalBufferedStream nor a BlockCompressedInputStream\n",
      "WARNING\t2021-08-10 01:02:02\tAsciiLineReader\tCreating an indexable source for an AsciiFeatureCodec using a stream that is neither a PositionalBufferedStream nor a BlockCompressedInputStream\n",
      "WARNING\t2021-08-10 01:02:03\tAsciiLineReader\tCreating an indexable source for an AsciiFeatureCodec using a stream that is neither a PositionalBufferedStream nor a BlockCompressedInputStream\n",
      "WARNING\t2021-08-10 01:02:03\tAsciiLineReader\tCreating an indexable source for an AsciiFeatureCodec using a stream that is neither a PositionalBufferedStream nor a BlockCompressedInputStream\n",
      "WARNING\t2021-08-10 01:02:03\tAsciiLineReader\tCreating an indexable source for an AsciiFeatureCodec using a stream that is neither a PositionalBufferedStream nor a BlockCompressedInputStream\n",
      "WARNING\t2021-08-10 01:02:03\tAsciiLineReader\tCreating an indexable source for an AsciiFeatureCodec using a stream that is neither a PositionalBufferedStream nor a BlockCompressedInputStream\n",
      "WARNING\t2021-08-10 01:02:04\tAsciiLineReader\tCreating an indexable source for an AsciiFeatureCodec using a stream that is neither a PositionalBufferedStream nor a BlockCompressedInputStream\n",
      "WARNING\t2021-08-10 01:02:04\tAsciiLineReader\tCreating an indexable source for an AsciiFeatureCodec using a stream that is neither a PositionalBufferedStream nor a BlockCompressedInputStream\n",
      "WARNING\t2021-08-10 01:02:04\tAsciiLineReader\tCreating an indexable source for an AsciiFeatureCodec using a stream that is neither a PositionalBufferedStream nor a BlockCompressedInputStream\n",
      "WARNING\t2021-08-10 01:02:04\tAsciiLineReader\tCreating an indexable source for an AsciiFeatureCodec using a stream that is neither a PositionalBufferedStream nor a BlockCompressedInputStream\n",
      "WARNING\t2021-08-10 01:02:05\tAsciiLineReader\tCreating an indexable source for an AsciiFeatureCodec using a stream that is neither a PositionalBufferedStream nor a BlockCompressedInputStream\n",
      "WARNING\t2021-08-10 01:02:05\tAsciiLineReader\tCreating an indexable source for an AsciiFeatureCodec using a stream that is neither a PositionalBufferedStream nor a BlockCompressedInputStream\n",
      "WARNING\t2021-08-10 01:02:05\tAsciiLineReader\tCreating an indexable source for an AsciiFeatureCodec using a stream that is neither a PositionalBufferedStream nor a BlockCompressedInputStream\n",
      "WARNING\t2021-08-10 01:02:05\tAsciiLineReader\tCreating an indexable source for an AsciiFeatureCodec using a stream that is neither a PositionalBufferedStream nor a BlockCompressedInputStream\n",
      "                                                                                \r"
     ]
    },
    {
     "name": "stdout",
     "output_type": "stream",
     "text": [
      "CPU times: user 318 ms, sys: 10.9 ms, total: 329 ms\n",
      "Wall time: 6.82 s\n"
     ]
    },
    {
     "data": {
      "text/plain": [
       "[Row(filters=['PASS'], qual=None),\n",
       " Row(filters=['PASS'], qual=None),\n",
       " Row(filters=['PASS'], qual=None),\n",
       " Row(filters=['PASS'], qual=None),\n",
       " Row(filters=['PASS'], qual=None),\n",
       " Row(filters=['PASS'], qual=None),\n",
       " Row(filters=['PASS'], qual=None),\n",
       " Row(filters=['PASS'], qual=None),\n",
       " Row(filters=['PASS'], qual=None),\n",
       " Row(filters=['PASS'], qual=None)]"
      ]
     },
     "execution_count": 148,
     "metadata": {},
     "output_type": "execute_result"
    }
   ],
   "source": [
    "%%time\n",
    "vcf_df.select(col(\"filters\"), col(\"qual\")).collect()[0:10]"
   ]
  },
  {
   "cell_type": "code",
   "execution_count": 147,
   "id": "valid-syntax",
   "metadata": {},
   "outputs": [
    {
     "name": "stdout",
     "output_type": "stream",
     "text": [
      "CPU times: user 222 ms, sys: 1.59 ms, total: 223 ms\n",
      "Wall time: 667 ms\n"
     ]
    },
    {
     "data": {
      "text/plain": [
       "[Row(filters=['PASS'], qual=None),\n",
       " Row(filters=['PASS'], qual=None),\n",
       " Row(filters=['PASS'], qual=None),\n",
       " Row(filters=['PASS'], qual=None),\n",
       " Row(filters=['PASS'], qual=None),\n",
       " Row(filters=['PASS'], qual=None),\n",
       " Row(filters=['PASS'], qual=None),\n",
       " Row(filters=['PASS'], qual=None),\n",
       " Row(filters=['PASS'], qual=None),\n",
       " Row(filters=['PASS'], qual=None)]"
      ]
     },
     "execution_count": 147,
     "metadata": {},
     "output_type": "execute_result"
    }
   ],
   "source": [
    "%%time\n",
    "delta_vcf.select(col(\"filters\"), col(\"qual\")).collect()[0:10]"
   ]
  },
  {
   "cell_type": "markdown",
   "id": "248afc9c",
   "metadata": {},
   "source": [
    "### Count records (on full)"
   ]
  },
  {
   "cell_type": "code",
   "execution_count": 149,
   "id": "8adbcd74",
   "metadata": {},
   "outputs": [
    {
     "name": "stderr",
     "output_type": "stream",
     "text": [
      "WARNING\t2021-08-10 01:02:29\tAsciiLineReader\tCreating an indexable source for an AsciiFeatureCodec using a stream that is neither a PositionalBufferedStream nor a BlockCompressedInputStream\n",
      "WARNING\t2021-08-10 01:02:29\tAsciiLineReader\tCreating an indexable source for an AsciiFeatureCodec using a stream that is neither a PositionalBufferedStream nor a BlockCompressedInputStream\n",
      "WARNING\t2021-08-10 01:02:29\tAsciiLineReader\tCreating an indexable source for an AsciiFeatureCodec using a stream that is neither a PositionalBufferedStream nor a BlockCompressedInputStream\n",
      "WARNING\t2021-08-10 01:02:29\tAsciiLineReader\tCreating an indexable source for an AsciiFeatureCodec using a stream that is neither a PositionalBufferedStream nor a BlockCompressedInputStream\n",
      "WARNING\t2021-08-10 01:02:29\tAsciiLineReader\tCreating an indexable source for an AsciiFeatureCodec using a stream that is neither a PositionalBufferedStream nor a BlockCompressedInputStream\n",
      "WARNING\t2021-08-10 01:02:30\tAsciiLineReader\tCreating an indexable source for an AsciiFeatureCodec using a stream that is neither a PositionalBufferedStream nor a BlockCompressedInputStream\n",
      "WARNING\t2021-08-10 01:02:30\tAsciiLineReader\tCreating an indexable source for an AsciiFeatureCodec using a stream that is neither a PositionalBufferedStream nor a BlockCompressedInputStream\n",
      "WARNING\t2021-08-10 01:02:30\tAsciiLineReader\tCreating an indexable source for an AsciiFeatureCodec using a stream that is neither a PositionalBufferedStream nor a BlockCompressedInputStream\n",
      "WARNING\t2021-08-10 01:02:31\tAsciiLineReader\tCreating an indexable source for an AsciiFeatureCodec using a stream that is neither a PositionalBufferedStream nor a BlockCompressedInputStream\n",
      "WARNING\t2021-08-10 01:02:31\tAsciiLineReader\tCreating an indexable source for an AsciiFeatureCodec using a stream that is neither a PositionalBufferedStream nor a BlockCompressedInputStream\n",
      "WARNING\t2021-08-10 01:02:32\tAsciiLineReader\tCreating an indexable source for an AsciiFeatureCodec using a stream that is neither a PositionalBufferedStream nor a BlockCompressedInputStream\n",
      "WARNING\t2021-08-10 01:02:32\tAsciiLineReader\tCreating an indexable source for an AsciiFeatureCodec using a stream that is neither a PositionalBufferedStream nor a BlockCompressedInputStream\n",
      "WARNING\t2021-08-10 01:02:32\tAsciiLineReader\tCreating an indexable source for an AsciiFeatureCodec using a stream that is neither a PositionalBufferedStream nor a BlockCompressedInputStream\n",
      "WARNING\t2021-08-10 01:02:32\tAsciiLineReader\tCreating an indexable source for an AsciiFeatureCodec using a stream that is neither a PositionalBufferedStream nor a BlockCompressedInputStream\n",
      "WARNING\t2021-08-10 01:02:32\tAsciiLineReader\tCreating an indexable source for an AsciiFeatureCodec using a stream that is neither a PositionalBufferedStream nor a BlockCompressedInputStream\n",
      "WARNING\t2021-08-10 01:02:33\tAsciiLineReader\tCreating an indexable source for an AsciiFeatureCodec using a stream that is neither a PositionalBufferedStream nor a BlockCompressedInputStream\n",
      "WARNING\t2021-08-10 01:02:34\tAsciiLineReader\tCreating an indexable source for an AsciiFeatureCodec using a stream that is neither a PositionalBufferedStream nor a BlockCompressedInputStream\n",
      "WARNING\t2021-08-10 01:02:34\tAsciiLineReader\tCreating an indexable source for an AsciiFeatureCodec using a stream that is neither a PositionalBufferedStream nor a BlockCompressedInputStream\n",
      "WARNING\t2021-08-10 01:02:34\tAsciiLineReader\tCreating an indexable source for an AsciiFeatureCodec using a stream that is neither a PositionalBufferedStream nor a BlockCompressedInputStream\n",
      "WARNING\t2021-08-10 01:02:34\tAsciiLineReader\tCreating an indexable source for an AsciiFeatureCodec using a stream that is neither a PositionalBufferedStream nor a BlockCompressedInputStream\n",
      "[Stage 619:====================================================>  (19 + 1) / 20]\r"
     ]
    },
    {
     "name": "stdout",
     "output_type": "stream",
     "text": [
      "CPU times: user 18.4 ms, sys: 7.06 ms, total: 25.5 ms\n",
      "Wall time: 6.84 s\n"
     ]
    },
    {
     "name": "stderr",
     "output_type": "stream",
     "text": [
      "\r",
      "                                                                                \r"
     ]
    },
    {
     "data": {
      "text/plain": [
       "71174"
      ]
     },
     "execution_count": 149,
     "metadata": {},
     "output_type": "execute_result"
    }
   ],
   "source": [
    "%%time\n",
    "vcf_df.count()"
   ]
  },
  {
   "cell_type": "code",
   "execution_count": 150,
   "id": "combined-advancement",
   "metadata": {},
   "outputs": [
    {
     "name": "stdout",
     "output_type": "stream",
     "text": [
      "CPU times: user 3.35 ms, sys: 0 ns, total: 3.35 ms\n",
      "Wall time: 359 ms\n"
     ]
    },
    {
     "data": {
      "text/plain": [
       "71174"
      ]
     },
     "execution_count": 150,
     "metadata": {},
     "output_type": "execute_result"
    }
   ],
   "source": [
    "%%time\n",
    "delta_vcfs.count()"
   ]
  },
  {
   "cell_type": "code",
   "execution_count": null,
   "id": "residential-carpet",
   "metadata": {},
   "outputs": [],
   "source": [
    "#\n",
    "# code examples from the manual\n",
    "#\n",
    "\n",
    "#phenotypes_path = '/databricks-datasets/genomics/1000G/phenotypes.normalized'\n",
    "#reference_genome_path = \"/dbfs/databricks-datasets/genomics/grch37/data/human_g1k_v37.fa\"\n",
    "#vcf_output_path = \"dbfs:/home/genomics/vcf/subset.vcf\"\n",
    "\n",
    "\n",
    "#genotype = delta_vcf.where((fx.col(\"contigName\") == '22') & \n",
    "#                           (fx.col(\"start\") == 1234567)). \\\n",
    "#                     selectExpr(\"contigName\", \"start\", \"filter(genotypes, g -> g.sampleId = '{0}') as genotypes\".format(sample_id))"
   ]
  },
  {
   "cell_type": "markdown",
   "id": "904befcb",
   "metadata": {},
   "source": [
    "## Class impl that do not work \n",
    "#### (problematic inheritance from DataFrame)"
   ]
  },
  {
   "cell_type": "code",
   "execution_count": null,
   "id": "82b44a93",
   "metadata": {},
   "outputs": [],
   "source": [
    "vcf_path_glob = 'data/*20R.strelka.somatic.snvs.vcf.gz'\n",
    "vcf_paths = glob.glob(vcf_path_glob)\n",
    "vcf_path = vcf_paths[0]\n",
    "\n",
    "class VCF(DataFrame):\n",
    "    \n",
    "    path = None\n",
    "    vcf = None\n",
    "    \n",
    "    def __init__(self, path):\n",
    "        self = self.__load_vcf(path)\n",
    "        self.path = path\n",
    "    \n",
    "    def __load_vcf(self, path, includeSampleIds=True):\n",
    "        vcf = (\n",
    "          spark\n",
    "          .read\n",
    "          .format(\"vcf\")\n",
    "          .load(path, includeSampleIds=includeSampleIds)\n",
    "        )\n",
    "        return vcf\n",
    "   \n",
    "    \n",
    "    def filter_PASS(self):\n",
    "        self.vcf = self.vcf.filter(array_contains(col(\"filters\"), 'PASS'))\n",
    "        return self\n",
    "        \n",
    "        \n",
    "class StrelkaSomaticSnvVCF(VCF):\n",
    "\n",
    "    extension = '.strelka.somatic.snvs.vcf.gz'\n",
    "    \n",
    "    def __init__(self, path):\n",
    "        super().__init__(path)\n",
    "    \n",
    "    def get_only_tumor_df(self, cols2keep=None):\n",
    "        if cols2keep is None:\n",
    "            cols2keep = [e for e in self.vcf.columns if e not in ['genotypes']]\n",
    "    \n",
    "        #\n",
    "        # this is a proper way to explot the genotypes array but due to a bug? / Delta API changes? it does not work\n",
    "        #vcf.select(element_at(col(\"genotypes\"),1).alias('tumor')).select(glow.expand_struct(\"tumor\"))\n",
    "        tvcf = self.vcf.select(cols2keep + [self.vcf.genotypes.getItem(1).alias('tumor')])\n",
    "        self.vcf = tvcf.select(cols2keep + [\"tumor.*\"]).drop('sampleId')\n",
    "        return self\n",
    "    \n",
    "    def get_tumor_and_normal_ids_from_path(self):\n",
    "        tvsn = os.path.basename(self.path)[:-len(self.extension)]\n",
    "        try:\n",
    "            tsid,nsid = tvsn.split('_vs_')\n",
    "            return (tsid,nsid)\n",
    "        except ValueError:\n",
    "            print(\"For tumor and normal ID inference the filename of Strelka somatic VCF \"+\n",
    "                  \"is expected to be [TUMOR_vs_NORMAL\" + self.extension + \"].\\n\"\n",
    "                  \"It was \" + os.path.basename(self.path))\n",
    "    \n",
    "    def get_tumor_PASS_variants():\n",
    "        return self.filter_pass().get_only_tumor_df()\n",
    "        \n"
   ]
  }
 ],
 "metadata": {
  "kernelspec": {
   "display_name": "Python 3",
   "language": "python",
   "name": "python3"
  },
  "language_info": {
   "codemirror_mode": {
    "name": "ipython",
    "version": 3
   },
   "file_extension": ".py",
   "mimetype": "text/x-python",
   "name": "python",
   "nbconvert_exporter": "python",
   "pygments_lexer": "ipython3",
   "version": "3.8.10"
  }
 },
 "nbformat": 4,
 "nbformat_minor": 5
}
