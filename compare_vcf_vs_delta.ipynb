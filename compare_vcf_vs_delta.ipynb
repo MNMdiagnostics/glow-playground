{
 "cells": [
  {
   "cell_type": "code",
   "execution_count": 1,
   "id": "alive-arnold",
   "metadata": {},
   "outputs": [],
   "source": [
    "import time\n",
    "\n",
    "import glow\n",
    "spark = glow.register(spark)\n",
    "import pyspark.sql.functions as fx\n",
    "from pyspark.sql.types import *\n",
    "from pyspark.sql.functions import *\n",
    "from random import sample"
   ]
  },
  {
   "cell_type": "code",
   "execution_count": 2,
   "id": "honest-shark",
   "metadata": {},
   "outputs": [],
   "source": [
    "vcf_path_glob = 'data/*0R.strelka.somatic.snvs.vcf.gz'\n",
    "vcf_path = 'data/test.strelka.somatic.snvs.vcf.gz'\n",
    "#phenotypes_path = '/databricks-datasets/genomics/1000G/phenotypes.normalized'\n",
    "#reference_genome_path = \"/dbfs/databricks-datasets/genomics/grch37/data/human_g1k_v37.fa\"\n",
    "#vcf_output_path = \"dbfs:/home/genomics/vcf/subset.vcf\"\n"
   ]
  },
  {
   "cell_type": "code",
   "execution_count": 3,
   "id": "sitting-optimum",
   "metadata": {},
   "outputs": [
    {
     "name": "stderr",
     "output_type": "stream",
     "text": [
      "WARNING\t2021-07-15 10:28:40\tAsciiLineReader\tCreating an indexable source for an AsciiFeatureCodec using a stream that is neither a PositionalBufferedStream nor a BlockCompressedInputStream\n",
      "                                                                                \r"
     ]
    },
    {
     "name": "stdout",
     "output_type": "stream",
     "text": [
      "root\n",
      " |-- contigName: string (nullable = true)\n",
      " |-- start: long (nullable = true)\n",
      " |-- end: long (nullable = true)\n",
      " |-- names: array (nullable = true)\n",
      " |    |-- element: string (containsNull = true)\n",
      " |-- referenceAllele: string (nullable = true)\n",
      " |-- alternateAlleles: array (nullable = true)\n",
      " |    |-- element: string (containsNull = true)\n",
      " |-- qual: double (nullable = true)\n",
      " |-- filters: array (nullable = true)\n",
      " |    |-- element: string (containsNull = true)\n",
      " |-- splitFromMultiAllelic: boolean (nullable = true)\n",
      " |-- INFO_SomaticEVS: double (nullable = true)\n",
      " |-- INFO_QSS_NT: integer (nullable = true)\n",
      " |-- INFO_PNOISE2: double (nullable = true)\n",
      " |-- INFO_MQ0: integer (nullable = true)\n",
      " |-- INFO_ReadPosRankSum: double (nullable = true)\n",
      " |-- INFO_TQSS: integer (nullable = true)\n",
      " |-- INFO_SNVSB: double (nullable = true)\n",
      " |-- INFO_DP: integer (nullable = true)\n",
      " |-- INFO_PNOISE: double (nullable = true)\n",
      " |-- INFO_QSS: integer (nullable = true)\n",
      " |-- INFO_MQ: double (nullable = true)\n",
      " |-- INFO_SGT: string (nullable = true)\n",
      " |-- INFO_SOMATIC: boolean (nullable = true)\n",
      " |-- INFO_NT: string (nullable = true)\n",
      " |-- INFO_TQSS_NT: integer (nullable = true)\n",
      " |-- genotypes: array (nullable = true)\n",
      " |    |-- element: struct (containsNull = true)\n",
      " |    |    |-- sampleId: string (nullable = true)\n",
      " |    |    |-- FDP: integer (nullable = true)\n",
      " |    |    |-- GU: array (nullable = true)\n",
      " |    |    |    |-- element: integer (containsNull = true)\n",
      " |    |    |-- AU: array (nullable = true)\n",
      " |    |    |    |-- element: integer (containsNull = true)\n",
      " |    |    |-- depth: integer (nullable = true)\n",
      " |    |    |-- SUBDP: integer (nullable = true)\n",
      " |    |    |-- TU: array (nullable = true)\n",
      " |    |    |    |-- element: integer (containsNull = true)\n",
      " |    |    |-- SDP: integer (nullable = true)\n",
      " |    |    |-- CU: array (nullable = true)\n",
      " |    |    |    |-- element: integer (containsNull = true)\n",
      "\n"
     ]
    }
   ],
   "source": [
    "vcf = (\n",
    "  spark\n",
    "  .read\n",
    "  .format(\"vcf\")\n",
    "  .load(vcf_path) # , includeSampleIds=True\n",
    ")\n",
    "\n",
    "vcf.printSchema()"
   ]
  },
  {
   "cell_type": "markdown",
   "id": "forward-zimbabwe",
   "metadata": {},
   "source": [
    "## Data lake"
   ]
  },
  {
   "cell_type": "code",
   "execution_count": 4,
   "id": "ordered-architecture",
   "metadata": {},
   "outputs": [
    {
     "name": "stderr",
     "output_type": "stream",
     "text": [
      "WARNING\t2021-07-15 10:29:14\tAsciiLineReader\tCreating an indexable source for an AsciiFeatureCodec using a stream that is neither a PositionalBufferedStream nor a BlockCompressedInputStream\n",
      "WARNING\t2021-07-15 10:29:14\tAsciiLineReader\tCreating an indexable source for an AsciiFeatureCodec using a stream that is neither a PositionalBufferedStream nor a BlockCompressedInputStream\n",
      "WARNING\t2021-07-15 10:29:14\tAsciiLineReader\tCreating an indexable source for an AsciiFeatureCodec using a stream that is neither a PositionalBufferedStream nor a BlockCompressedInputStream\n",
      "WARNING\t2021-07-15 10:29:14\tAsciiLineReader\tCreating an indexable source for an AsciiFeatureCodec using a stream that is neither a PositionalBufferedStream nor a BlockCompressedInputStream\n",
      "                                                                                \r"
     ]
    }
   ],
   "source": [
    "delta_output_path = \"delta/test-delta\"\n",
    "\n",
    "(\n",
    "  vcf\n",
    "  .write\n",
    "  .format(\"delta\")\n",
    "  .mode(\"overwrite\")\n",
    "  .save(delta_output_path)\n",
    ")\n",
    "\n",
    "delta_vcf = spark.read.format(\"delta\").load(delta_output_path)"
   ]
  },
  {
   "cell_type": "code",
   "execution_count": 5,
   "id": "conventional-great",
   "metadata": {},
   "outputs": [
    {
     "name": "stdout",
     "output_type": "stream",
     "text": [
      "+----------+--------+--------+-----+---------------+----------------+----+--------+---------------------+---------------+-----------+------------+--------+-------------------+---------+----------+-------+-----------+--------+-------+--------+------------+-------+------------+--------------------+\n",
      "|contigName|   start|     end|names|referenceAllele|alternateAlleles|qual| filters|splitFromMultiAllelic|INFO_SomaticEVS|INFO_QSS_NT|INFO_PNOISE2|INFO_MQ0|INFO_ReadPosRankSum|INFO_TQSS|INFO_SNVSB|INFO_DP|INFO_PNOISE|INFO_QSS|INFO_MQ|INFO_SGT|INFO_SOMATIC|INFO_NT|INFO_TQSS_NT|           genotypes|\n",
      "+----------+--------+--------+-----+---------------+----------------+----+--------+---------------------+---------------+-----------+------------+--------+-------------------+---------+----------+-------+-----------+--------+-------+--------+------------+-------+------------+--------------------+\n",
      "|        14|39575774|39575775| null|              G|             [T]|null|[LowEVS]|                false|           0.15|          6|        null|       0|               0.63|        2|      1.62|    110|       null|       6|  59.96|  GG->GT|        true|    ref|           2|[{NORMAL, 2, [39,...|\n",
      "|        14|39580607|39580608| null|              C|             [A]|null|[LowEVS]|                false|           0.09|          6|        null|       0|               -1.5|        1|      1.73|     62|       null|       6|  59.06|  CC->AC|        true|    ref|           1|[{NORMAL, 4, [0, ...|\n",
      "+----------+--------+--------+-----+---------------+----------------+----+--------+---------------------+---------------+-----------+------------+--------+-------------------+---------+----------+-------+-----------+--------+-------+--------+------------+-------+------------+--------------------+\n",
      "only showing top 2 rows\n",
      "\n"
     ]
    }
   ],
   "source": [
    "delta_vcf.show(n=2)"
   ]
  },
  {
   "cell_type": "markdown",
   "id": "fitting-idaho",
   "metadata": {},
   "source": [
    "## Timings"
   ]
  },
  {
   "cell_type": "code",
   "execution_count": 9,
   "id": "foreign-receipt",
   "metadata": {},
   "outputs": [
    {
     "name": "stdout",
     "output_type": "stream",
     "text": [
      "1.8226094245910645\n",
      "1.2743875980377197\n"
     ]
    }
   ],
   "source": [
    "import time\n",
    "\n",
    "start = time.time()\n",
    "vcf.filter(array_contains(col(\"filters\"), 'PASS')).count()\n",
    "print(time.time() - start)\n",
    "\n",
    "start = time.time()\n",
    "delta_vcf.filter(array_contains(col(\"filters\"), 'PASS')).count()\n",
    "print(time.time() - start)\n",
    "\n"
   ]
  },
  {
   "cell_type": "code",
   "execution_count": 10,
   "id": "gross-asbestos",
   "metadata": {},
   "outputs": [
    {
     "name": "stdout",
     "output_type": "stream",
     "text": [
      "3.828608989715576\n",
      "3.2344350814819336\n"
     ]
    }
   ],
   "source": [
    "start = time.time()\n",
    "vcf.filter(array_contains(col(\"filters\"), 'PASS')).select(element_at(col(\"genotypes\"),1)).collect()\n",
    "print(time.time() - start)\n",
    "\n",
    "start = time.time()\n",
    "delta_vcf.filter(array_contains(col(\"filters\"), 'PASS')).select(element_at(col(\"genotypes\"),1)).collect()\n",
    "print(time.time() - start)\n",
    "\n"
   ]
  },
  {
   "cell_type": "code",
   "execution_count": 55,
   "id": "valid-syntax",
   "metadata": {},
   "outputs": [
    {
     "name": "stdout",
     "output_type": "stream",
     "text": [
      "4.461416482925415\n",
      "3.6080989837646484\n"
     ]
    }
   ],
   "source": [
    "start = time.time()\n",
    "vcf.select(col(\"INFO_SomaticEVS\"), col(\"referenceAllele\")).collect()\n",
    "print(time.time() - start)\n",
    "\n",
    "start = time.time()\n",
    "delta_vcf.select(col(\"INFO_SomaticEVS\"), col(\"referenceAllele\")).collect()\n",
    "print(time.time() - start)\n"
   ]
  },
  {
   "cell_type": "code",
   "execution_count": 49,
   "id": "combined-advancement",
   "metadata": {},
   "outputs": [
    {
     "name": "stdout",
     "output_type": "stream",
     "text": [
      "0.37714171409606934\n",
      "1.2829225063323975\n"
     ]
    }
   ],
   "source": [
    "start = time.time()\n",
    "delta_vcf.count()\n",
    "print(time.time() - start)\n",
    "\n",
    "start = time.time()\n",
    "vcf.count()\n",
    "print(time.time() - start)"
   ]
  },
  {
   "cell_type": "code",
   "execution_count": 13,
   "id": "residential-carpet",
   "metadata": {},
   "outputs": [
    {
     "data": {
      "text/plain": [
       "770269"
      ]
     },
     "execution_count": 13,
     "metadata": {},
     "output_type": "execute_result"
    }
   ],
   "source": [
    "#genotype = delta_vcf.where((fx.col(\"contigName\") == '22') & \n",
    "#                           (fx.col(\"start\") == 1234567)). \\\n",
    "#                     selectExpr(\"contigName\", \"start\", \"filter(genotypes, g -> g.sampleId = '{0}') as genotypes\".format(sample_id))"
   ]
  }
 ],
 "metadata": {
  "kernelspec": {
   "display_name": "Python 3",
   "language": "python",
   "name": "python3"
  },
  "language_info": {
   "codemirror_mode": {
    "name": "ipython",
    "version": 3
   },
   "file_extension": ".py",
   "mimetype": "text/x-python",
   "name": "python",
   "nbconvert_exporter": "python",
   "pygments_lexer": "ipython3",
   "version": "3.8.10"
  }
 },
 "nbformat": 4,
 "nbformat_minor": 5
}
